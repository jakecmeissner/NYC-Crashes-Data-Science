{
 "cells": [
  {
   "cell_type": "markdown",
   "metadata": {},
   "source": [
    "**Analysis of a dataset from Kaggle involving victims of NYC motor vehicle accidents**"
   ]
  },
  {
   "cell_type": "markdown",
   "metadata": {},
   "source": [
    "***Technologies Used: numpy, pandas, matplotlib.pylot, seaborn***"
   ]
  },
  {
   "cell_type": "code",
   "execution_count": 1,
   "metadata": {},
   "outputs": [],
   "source": [
    "import numpy as np\n",
    "import numpy_financial as npf\n",
    "import pandas as pd\n",
    "import matplotlib.pyplot as plt\n",
    "import seaborn as sns\n",
    "plt.rcParams[\"figure.figsize\"] = (8, 4)\n",
    "plt.rcParams[\"xtick.labelsize\"] = 7\n",
    "\n",
    "# Set the font size and color for the title using the rcParams dictionary\n",
    "plt.rcParams[\"axes.titlesize\"] = 16\n",
    "plt.rcParams[\"axes.titlecolor\"] = \"green\"\n",
    "plt.rcParams[\"axes.titleweight\"] = \"bold\""
   ]
  },
  {
   "cell_type": "markdown",
   "metadata": {},
   "source": [
    "***Read our data***"
   ]
  },
  {
   "cell_type": "code",
   "execution_count": 2,
   "metadata": {},
   "outputs": [],
   "source": [
    "nyc_crash_df = pd.read_csv('../datasets/NYC_Motor_Vehicle_Collisions_to_Person.csv')"
   ]
  },
  {
   "cell_type": "markdown",
   "metadata": {},
   "source": [
    "***View head of data for brief rundown of columns and values***"
   ]
  },
  {
   "cell_type": "code",
   "execution_count": 3,
   "metadata": {},
   "outputs": [
    {
     "data": {
      "text/html": [
       "<div>\n",
       "<style scoped>\n",
       "    .dataframe tbody tr th:only-of-type {\n",
       "        vertical-align: middle;\n",
       "    }\n",
       "\n",
       "    .dataframe tbody tr th {\n",
       "        vertical-align: top;\n",
       "    }\n",
       "\n",
       "    .dataframe thead th {\n",
       "        text-align: right;\n",
       "    }\n",
       "</style>\n",
       "<table border=\"1\" class=\"dataframe\">\n",
       "  <thead>\n",
       "    <tr style=\"text-align: right;\">\n",
       "      <th></th>\n",
       "      <th>CRASH_DATE</th>\n",
       "      <th>CRASH_TIME</th>\n",
       "      <th>PERSON_INJURY</th>\n",
       "      <th>PERSON_AGE</th>\n",
       "      <th>BODILY_INJURY</th>\n",
       "      <th>SAFETY_EQUIPMENT</th>\n",
       "      <th>PERSON_SEX</th>\n",
       "      <th>PERSON_TYPE</th>\n",
       "      <th>PED_LOCATION</th>\n",
       "      <th>CONTRIBUTING_FACTOR_2</th>\n",
       "      <th>...</th>\n",
       "      <th>COMPLAINT</th>\n",
       "      <th>EMOTIONAL_STATUS</th>\n",
       "      <th>VEHICLE_ID</th>\n",
       "      <th>PERSON_ID</th>\n",
       "      <th>CONTRIBUTING_FACTOR_1</th>\n",
       "      <th>POSITION_IN_VEHICLE</th>\n",
       "      <th>PED_ROLE</th>\n",
       "      <th>UNIQUE_ID</th>\n",
       "      <th>PED_ACTION</th>\n",
       "      <th>COLLISION_ID</th>\n",
       "    </tr>\n",
       "  </thead>\n",
       "  <tbody>\n",
       "    <tr>\n",
       "      <th>0</th>\n",
       "      <td>2021-05-02</td>\n",
       "      <td>21:00</td>\n",
       "      <td>Killed</td>\n",
       "      <td>62.0</td>\n",
       "      <td>Head</td>\n",
       "      <td>NaN</td>\n",
       "      <td>F</td>\n",
       "      <td>Pedestrian</td>\n",
       "      <td>Pedestrian/Bicyclist/Other Pedestrian at Inter...</td>\n",
       "      <td>Pedestrian/Bicyclist/Other Pedestrian Error/Co...</td>\n",
       "      <td>...</td>\n",
       "      <td>Severe Bleeding</td>\n",
       "      <td>Apparent Death</td>\n",
       "      <td>NaN</td>\n",
       "      <td>f2f329b6-2dfc-4bd0-b751-2e4255f1ea06</td>\n",
       "      <td>Traffic Control Disregarded</td>\n",
       "      <td>NaN</td>\n",
       "      <td>Pedestrian</td>\n",
       "      <td>11791937</td>\n",
       "      <td>Crossing Against Signal</td>\n",
       "      <td>4412948</td>\n",
       "    </tr>\n",
       "    <tr>\n",
       "      <th>1</th>\n",
       "      <td>2021-05-21</td>\n",
       "      <td>0:00</td>\n",
       "      <td>Killed</td>\n",
       "      <td>24.0</td>\n",
       "      <td>Entire Body</td>\n",
       "      <td>Air Bag Deployed</td>\n",
       "      <td>M</td>\n",
       "      <td>Occupant</td>\n",
       "      <td>NaN</td>\n",
       "      <td>NaN</td>\n",
       "      <td>...</td>\n",
       "      <td>Internal</td>\n",
       "      <td>Apparent Death</td>\n",
       "      <td>19986231.0</td>\n",
       "      <td>e27e12a2-0485-4e22-b692-3f8a765d2582</td>\n",
       "      <td>NaN</td>\n",
       "      <td>Driver</td>\n",
       "      <td>Driver</td>\n",
       "      <td>11819198</td>\n",
       "      <td>NaN</td>\n",
       "      <td>4419608</td>\n",
       "    </tr>\n",
       "    <tr>\n",
       "      <th>2</th>\n",
       "      <td>2021-10-15</td>\n",
       "      <td>2:00</td>\n",
       "      <td>Killed</td>\n",
       "      <td>30.0</td>\n",
       "      <td>Head</td>\n",
       "      <td>None</td>\n",
       "      <td>M</td>\n",
       "      <td>Occupant</td>\n",
       "      <td>NaN</td>\n",
       "      <td>NaN</td>\n",
       "      <td>...</td>\n",
       "      <td>Internal</td>\n",
       "      <td>Apparent Death</td>\n",
       "      <td>20091024.0</td>\n",
       "      <td>1a6f5aa7-5125-4be2-8499-fe7977cb0d90</td>\n",
       "      <td>NaN</td>\n",
       "      <td>Driver</td>\n",
       "      <td>Driver</td>\n",
       "      <td>11998317</td>\n",
       "      <td>NaN</td>\n",
       "      <td>4467504</td>\n",
       "    </tr>\n",
       "    <tr>\n",
       "      <th>3</th>\n",
       "      <td>2021-04-17</td>\n",
       "      <td>13:00</td>\n",
       "      <td>Killed</td>\n",
       "      <td>71.0</td>\n",
       "      <td>Head</td>\n",
       "      <td>NaN</td>\n",
       "      <td>M</td>\n",
       "      <td>Pedestrian</td>\n",
       "      <td>Pedestrian/Bicyclist/Other Pedestrian Not at I...</td>\n",
       "      <td>Unspecified</td>\n",
       "      <td>...</td>\n",
       "      <td>Internal</td>\n",
       "      <td>Unconscious</td>\n",
       "      <td>NaN</td>\n",
       "      <td>b950706b-00a4-485c-84c5-777208cc3cc9</td>\n",
       "      <td>Pedestrian/Bicyclist/Other Pedestrian Error/Co...</td>\n",
       "      <td>NaN</td>\n",
       "      <td>Pedestrian</td>\n",
       "      <td>11745791</td>\n",
       "      <td>Crossing, No Signal, or Crosswalk</td>\n",
       "      <td>4408062</td>\n",
       "    </tr>\n",
       "    <tr>\n",
       "      <th>4</th>\n",
       "      <td>2021-05-25</td>\n",
       "      <td>22:00</td>\n",
       "      <td>Killed</td>\n",
       "      <td>69.0</td>\n",
       "      <td>Entire Body</td>\n",
       "      <td>NaN</td>\n",
       "      <td>F</td>\n",
       "      <td>Pedestrian</td>\n",
       "      <td>Pedestrian/Bicyclist/Other Pedestrian Not at I...</td>\n",
       "      <td>Unspecified</td>\n",
       "      <td>...</td>\n",
       "      <td>None Visible</td>\n",
       "      <td>Conscious</td>\n",
       "      <td>NaN</td>\n",
       "      <td>6504ea0a-c92d-444c-8127-284943be9aac</td>\n",
       "      <td>Unspecified</td>\n",
       "      <td>NaN</td>\n",
       "      <td>Pedestrian</td>\n",
       "      <td>11991283</td>\n",
       "      <td>Crossing, No Signal, Marked Crosswalk</td>\n",
       "      <td>4420918</td>\n",
       "    </tr>\n",
       "  </tbody>\n",
       "</table>\n",
       "<p>5 rows × 21 columns</p>\n",
       "</div>"
      ],
      "text/plain": [
       "   CRASH_DATE CRASH_TIME PERSON_INJURY  PERSON_AGE BODILY_INJURY  \\\n",
       "0  2021-05-02      21:00        Killed        62.0          Head   \n",
       "1  2021-05-21       0:00        Killed        24.0   Entire Body   \n",
       "2  2021-10-15       2:00        Killed        30.0          Head   \n",
       "3  2021-04-17      13:00        Killed        71.0          Head   \n",
       "4  2021-05-25      22:00        Killed        69.0   Entire Body   \n",
       "\n",
       "   SAFETY_EQUIPMENT PERSON_SEX PERSON_TYPE  \\\n",
       "0               NaN          F  Pedestrian   \n",
       "1  Air Bag Deployed          M    Occupant   \n",
       "2              None          M    Occupant   \n",
       "3               NaN          M  Pedestrian   \n",
       "4               NaN          F  Pedestrian   \n",
       "\n",
       "                                        PED_LOCATION  \\\n",
       "0  Pedestrian/Bicyclist/Other Pedestrian at Inter...   \n",
       "1                                                NaN   \n",
       "2                                                NaN   \n",
       "3  Pedestrian/Bicyclist/Other Pedestrian Not at I...   \n",
       "4  Pedestrian/Bicyclist/Other Pedestrian Not at I...   \n",
       "\n",
       "                               CONTRIBUTING_FACTOR_2  ...        COMPLAINT  \\\n",
       "0  Pedestrian/Bicyclist/Other Pedestrian Error/Co...  ...  Severe Bleeding   \n",
       "1                                                NaN  ...         Internal   \n",
       "2                                                NaN  ...         Internal   \n",
       "3                                        Unspecified  ...         Internal   \n",
       "4                                        Unspecified  ...     None Visible   \n",
       "\n",
       "  EMOTIONAL_STATUS  VEHICLE_ID                             PERSON_ID  \\\n",
       "0   Apparent Death         NaN  f2f329b6-2dfc-4bd0-b751-2e4255f1ea06   \n",
       "1   Apparent Death  19986231.0  e27e12a2-0485-4e22-b692-3f8a765d2582   \n",
       "2   Apparent Death  20091024.0  1a6f5aa7-5125-4be2-8499-fe7977cb0d90   \n",
       "3      Unconscious         NaN  b950706b-00a4-485c-84c5-777208cc3cc9   \n",
       "4        Conscious         NaN  6504ea0a-c92d-444c-8127-284943be9aac   \n",
       "\n",
       "                               CONTRIBUTING_FACTOR_1 POSITION_IN_VEHICLE  \\\n",
       "0                        Traffic Control Disregarded                 NaN   \n",
       "1                                                NaN              Driver   \n",
       "2                                                NaN              Driver   \n",
       "3  Pedestrian/Bicyclist/Other Pedestrian Error/Co...                 NaN   \n",
       "4                                        Unspecified                 NaN   \n",
       "\n",
       "     PED_ROLE UNIQUE_ID                             PED_ACTION COLLISION_ID  \n",
       "0  Pedestrian  11791937                Crossing Against Signal      4412948  \n",
       "1      Driver  11819198                                    NaN      4419608  \n",
       "2      Driver  11998317                                    NaN      4467504  \n",
       "3  Pedestrian  11745791      Crossing, No Signal, or Crosswalk      4408062  \n",
       "4  Pedestrian  11991283  Crossing, No Signal, Marked Crosswalk      4420918  \n",
       "\n",
       "[5 rows x 21 columns]"
      ]
     },
     "execution_count": 3,
     "metadata": {},
     "output_type": "execute_result"
    }
   ],
   "source": [
    "nyc_crash_df.head()"
   ]
  },
  {
   "cell_type": "markdown",
   "metadata": {},
   "source": [
    "***View the columns object***"
   ]
  },
  {
   "cell_type": "code",
   "execution_count": 4,
   "metadata": {},
   "outputs": [
    {
     "data": {
      "text/plain": [
       "Index(['CRASH_DATE', 'CRASH_TIME', 'PERSON_INJURY', 'PERSON_AGE',\n",
       "       'BODILY_INJURY', 'SAFETY_EQUIPMENT', 'PERSON_SEX', 'PERSON_TYPE',\n",
       "       'PED_LOCATION', 'CONTRIBUTING_FACTOR_2', 'EJECTION', 'COMPLAINT',\n",
       "       'EMOTIONAL_STATUS', 'VEHICLE_ID', 'PERSON_ID', 'CONTRIBUTING_FACTOR_1',\n",
       "       'POSITION_IN_VEHICLE', 'PED_ROLE', 'UNIQUE_ID', 'PED_ACTION',\n",
       "       'COLLISION_ID'],\n",
       "      dtype='object')"
      ]
     },
     "execution_count": 4,
     "metadata": {},
     "output_type": "execute_result"
    }
   ],
   "source": [
    "nyc_crash_df.columns"
   ]
  },
  {
   "cell_type": "markdown",
   "metadata": {},
   "source": [
    "***View first 15 data values for more comprehensive initial analysis of dataset***"
   ]
  },
  {
   "cell_type": "code",
   "execution_count": 5,
   "metadata": {},
   "outputs": [
    {
     "data": {
      "text/html": [
       "<div>\n",
       "<style scoped>\n",
       "    .dataframe tbody tr th:only-of-type {\n",
       "        vertical-align: middle;\n",
       "    }\n",
       "\n",
       "    .dataframe tbody tr th {\n",
       "        vertical-align: top;\n",
       "    }\n",
       "\n",
       "    .dataframe thead th {\n",
       "        text-align: right;\n",
       "    }\n",
       "</style>\n",
       "<table border=\"1\" class=\"dataframe\">\n",
       "  <thead>\n",
       "    <tr style=\"text-align: right;\">\n",
       "      <th></th>\n",
       "      <th>CRASH_DATE</th>\n",
       "      <th>CRASH_TIME</th>\n",
       "      <th>PERSON_INJURY</th>\n",
       "      <th>PERSON_AGE</th>\n",
       "      <th>BODILY_INJURY</th>\n",
       "      <th>SAFETY_EQUIPMENT</th>\n",
       "      <th>PERSON_SEX</th>\n",
       "      <th>PERSON_TYPE</th>\n",
       "      <th>PED_LOCATION</th>\n",
       "      <th>CONTRIBUTING_FACTOR_2</th>\n",
       "      <th>...</th>\n",
       "      <th>COMPLAINT</th>\n",
       "      <th>EMOTIONAL_STATUS</th>\n",
       "      <th>VEHICLE_ID</th>\n",
       "      <th>PERSON_ID</th>\n",
       "      <th>CONTRIBUTING_FACTOR_1</th>\n",
       "      <th>POSITION_IN_VEHICLE</th>\n",
       "      <th>PED_ROLE</th>\n",
       "      <th>UNIQUE_ID</th>\n",
       "      <th>PED_ACTION</th>\n",
       "      <th>COLLISION_ID</th>\n",
       "    </tr>\n",
       "  </thead>\n",
       "  <tbody>\n",
       "    <tr>\n",
       "      <th>0</th>\n",
       "      <td>2021-05-02</td>\n",
       "      <td>21:00</td>\n",
       "      <td>Killed</td>\n",
       "      <td>62.0</td>\n",
       "      <td>Head</td>\n",
       "      <td>NaN</td>\n",
       "      <td>F</td>\n",
       "      <td>Pedestrian</td>\n",
       "      <td>Pedestrian/Bicyclist/Other Pedestrian at Inter...</td>\n",
       "      <td>Pedestrian/Bicyclist/Other Pedestrian Error/Co...</td>\n",
       "      <td>...</td>\n",
       "      <td>Severe Bleeding</td>\n",
       "      <td>Apparent Death</td>\n",
       "      <td>NaN</td>\n",
       "      <td>f2f329b6-2dfc-4bd0-b751-2e4255f1ea06</td>\n",
       "      <td>Traffic Control Disregarded</td>\n",
       "      <td>NaN</td>\n",
       "      <td>Pedestrian</td>\n",
       "      <td>11791937</td>\n",
       "      <td>Crossing Against Signal</td>\n",
       "      <td>4412948</td>\n",
       "    </tr>\n",
       "    <tr>\n",
       "      <th>1</th>\n",
       "      <td>2021-05-21</td>\n",
       "      <td>0:00</td>\n",
       "      <td>Killed</td>\n",
       "      <td>24.0</td>\n",
       "      <td>Entire Body</td>\n",
       "      <td>Air Bag Deployed</td>\n",
       "      <td>M</td>\n",
       "      <td>Occupant</td>\n",
       "      <td>NaN</td>\n",
       "      <td>NaN</td>\n",
       "      <td>...</td>\n",
       "      <td>Internal</td>\n",
       "      <td>Apparent Death</td>\n",
       "      <td>19986231.0</td>\n",
       "      <td>e27e12a2-0485-4e22-b692-3f8a765d2582</td>\n",
       "      <td>NaN</td>\n",
       "      <td>Driver</td>\n",
       "      <td>Driver</td>\n",
       "      <td>11819198</td>\n",
       "      <td>NaN</td>\n",
       "      <td>4419608</td>\n",
       "    </tr>\n",
       "    <tr>\n",
       "      <th>2</th>\n",
       "      <td>2021-10-15</td>\n",
       "      <td>2:00</td>\n",
       "      <td>Killed</td>\n",
       "      <td>30.0</td>\n",
       "      <td>Head</td>\n",
       "      <td>None</td>\n",
       "      <td>M</td>\n",
       "      <td>Occupant</td>\n",
       "      <td>NaN</td>\n",
       "      <td>NaN</td>\n",
       "      <td>...</td>\n",
       "      <td>Internal</td>\n",
       "      <td>Apparent Death</td>\n",
       "      <td>20091024.0</td>\n",
       "      <td>1a6f5aa7-5125-4be2-8499-fe7977cb0d90</td>\n",
       "      <td>NaN</td>\n",
       "      <td>Driver</td>\n",
       "      <td>Driver</td>\n",
       "      <td>11998317</td>\n",
       "      <td>NaN</td>\n",
       "      <td>4467504</td>\n",
       "    </tr>\n",
       "    <tr>\n",
       "      <th>3</th>\n",
       "      <td>2021-04-17</td>\n",
       "      <td>13:00</td>\n",
       "      <td>Killed</td>\n",
       "      <td>71.0</td>\n",
       "      <td>Head</td>\n",
       "      <td>NaN</td>\n",
       "      <td>M</td>\n",
       "      <td>Pedestrian</td>\n",
       "      <td>Pedestrian/Bicyclist/Other Pedestrian Not at I...</td>\n",
       "      <td>Unspecified</td>\n",
       "      <td>...</td>\n",
       "      <td>Internal</td>\n",
       "      <td>Unconscious</td>\n",
       "      <td>NaN</td>\n",
       "      <td>b950706b-00a4-485c-84c5-777208cc3cc9</td>\n",
       "      <td>Pedestrian/Bicyclist/Other Pedestrian Error/Co...</td>\n",
       "      <td>NaN</td>\n",
       "      <td>Pedestrian</td>\n",
       "      <td>11745791</td>\n",
       "      <td>Crossing, No Signal, or Crosswalk</td>\n",
       "      <td>4408062</td>\n",
       "    </tr>\n",
       "    <tr>\n",
       "      <th>4</th>\n",
       "      <td>2021-05-25</td>\n",
       "      <td>22:00</td>\n",
       "      <td>Killed</td>\n",
       "      <td>69.0</td>\n",
       "      <td>Entire Body</td>\n",
       "      <td>NaN</td>\n",
       "      <td>F</td>\n",
       "      <td>Pedestrian</td>\n",
       "      <td>Pedestrian/Bicyclist/Other Pedestrian Not at I...</td>\n",
       "      <td>Unspecified</td>\n",
       "      <td>...</td>\n",
       "      <td>None Visible</td>\n",
       "      <td>Conscious</td>\n",
       "      <td>NaN</td>\n",
       "      <td>6504ea0a-c92d-444c-8127-284943be9aac</td>\n",
       "      <td>Unspecified</td>\n",
       "      <td>NaN</td>\n",
       "      <td>Pedestrian</td>\n",
       "      <td>11991283</td>\n",
       "      <td>Crossing, No Signal, Marked Crosswalk</td>\n",
       "      <td>4420918</td>\n",
       "    </tr>\n",
       "    <tr>\n",
       "      <th>5</th>\n",
       "      <td>2021-04-08</td>\n",
       "      <td>23:00</td>\n",
       "      <td>Killed</td>\n",
       "      <td>43.0</td>\n",
       "      <td>Head</td>\n",
       "      <td>NaN</td>\n",
       "      <td>M</td>\n",
       "      <td>Pedestrian</td>\n",
       "      <td>Pedestrian/Bicyclist/Other Pedestrian at Inter...</td>\n",
       "      <td>Unspecified</td>\n",
       "      <td>...</td>\n",
       "      <td>Internal</td>\n",
       "      <td>Unconscious</td>\n",
       "      <td>NaN</td>\n",
       "      <td>5d4760cc-99d2-45af-b673-15777906fe18</td>\n",
       "      <td>Pedestrian/Bicyclist/Other Pedestrian Error/Co...</td>\n",
       "      <td>NaN</td>\n",
       "      <td>Pedestrian</td>\n",
       "      <td>11784113</td>\n",
       "      <td>Other Actions in Roadway</td>\n",
       "      <td>4407069</td>\n",
       "    </tr>\n",
       "    <tr>\n",
       "      <th>6</th>\n",
       "      <td>2021-01-14</td>\n",
       "      <td>15:00</td>\n",
       "      <td>Killed</td>\n",
       "      <td>81.0</td>\n",
       "      <td>Entire Body</td>\n",
       "      <td>NaN</td>\n",
       "      <td>M</td>\n",
       "      <td>Pedestrian</td>\n",
       "      <td>Pedestrian/Bicyclist/Other Pedestrian Not at I...</td>\n",
       "      <td>Pedestrian/Bicyclist/Other Pedestrian Error/Co...</td>\n",
       "      <td>...</td>\n",
       "      <td>Complaint of Pain or Nausea</td>\n",
       "      <td>Apparent Death</td>\n",
       "      <td>NaN</td>\n",
       "      <td>8914628e-0494-4d6d-8d7d-d36abc5a5a73</td>\n",
       "      <td>Alcohol Involvement</td>\n",
       "      <td>NaN</td>\n",
       "      <td>Pedestrian</td>\n",
       "      <td>11589611</td>\n",
       "      <td>Crossing, No Signal, or Crosswalk</td>\n",
       "      <td>4384065</td>\n",
       "    </tr>\n",
       "    <tr>\n",
       "      <th>7</th>\n",
       "      <td>2021-01-20</td>\n",
       "      <td>19:00</td>\n",
       "      <td>Killed</td>\n",
       "      <td>60.0</td>\n",
       "      <td>Chest</td>\n",
       "      <td>NaN</td>\n",
       "      <td>M</td>\n",
       "      <td>Pedestrian</td>\n",
       "      <td>Pedestrian/Bicyclist/Other Pedestrian Not at I...</td>\n",
       "      <td>Unspecified</td>\n",
       "      <td>...</td>\n",
       "      <td>Internal</td>\n",
       "      <td>Apparent Death</td>\n",
       "      <td>NaN</td>\n",
       "      <td>2b94e71e-fc46-4648-ab4a-61ef283edbc8</td>\n",
       "      <td>Pedestrian/Bicyclist/Other Pedestrian Error/Co...</td>\n",
       "      <td>NaN</td>\n",
       "      <td>Pedestrian</td>\n",
       "      <td>11558357</td>\n",
       "      <td>Crossing, No Signal, or Crosswalk</td>\n",
       "      <td>4385848</td>\n",
       "    </tr>\n",
       "    <tr>\n",
       "      <th>8</th>\n",
       "      <td>2021-09-04</td>\n",
       "      <td>14:00</td>\n",
       "      <td>Killed</td>\n",
       "      <td>52.0</td>\n",
       "      <td>Entire Body</td>\n",
       "      <td>Unknown</td>\n",
       "      <td>M</td>\n",
       "      <td>Occupant</td>\n",
       "      <td>NaN</td>\n",
       "      <td>NaN</td>\n",
       "      <td>...</td>\n",
       "      <td>Internal</td>\n",
       "      <td>Unconscious</td>\n",
       "      <td>20083400.0</td>\n",
       "      <td>f1d8ec06-018d-430c-8aef-ebe60e47d2a7</td>\n",
       "      <td>NaN</td>\n",
       "      <td>Driver</td>\n",
       "      <td>Driver</td>\n",
       "      <td>11985005</td>\n",
       "      <td>NaN</td>\n",
       "      <td>4453643</td>\n",
       "    </tr>\n",
       "    <tr>\n",
       "      <th>9</th>\n",
       "      <td>2021-05-03</td>\n",
       "      <td>23:00</td>\n",
       "      <td>Killed</td>\n",
       "      <td>21.0</td>\n",
       "      <td>Head</td>\n",
       "      <td>Lap Belt &amp; Harness</td>\n",
       "      <td>M</td>\n",
       "      <td>Occupant</td>\n",
       "      <td>NaN</td>\n",
       "      <td>NaN</td>\n",
       "      <td>...</td>\n",
       "      <td>Internal</td>\n",
       "      <td>Unconscious</td>\n",
       "      <td>19993860.0</td>\n",
       "      <td>64974d87-d02f-42b1-a60b-58248a3e38de</td>\n",
       "      <td>NaN</td>\n",
       "      <td>Driver</td>\n",
       "      <td>Driver</td>\n",
       "      <td>11832119</td>\n",
       "      <td>NaN</td>\n",
       "      <td>4413273</td>\n",
       "    </tr>\n",
       "    <tr>\n",
       "      <th>10</th>\n",
       "      <td>2021-06-12</td>\n",
       "      <td>16:00</td>\n",
       "      <td>Killed</td>\n",
       "      <td>57.0</td>\n",
       "      <td>Unknown</td>\n",
       "      <td>Lap Belt &amp; Harness</td>\n",
       "      <td>M</td>\n",
       "      <td>Occupant</td>\n",
       "      <td>NaN</td>\n",
       "      <td>NaN</td>\n",
       "      <td>...</td>\n",
       "      <td>Unknown</td>\n",
       "      <td>Apparent Death</td>\n",
       "      <td>20077708.0</td>\n",
       "      <td>809fd7af-1844-48a8-ad2e-f3b4ae1c0867</td>\n",
       "      <td>NaN</td>\n",
       "      <td>Driver</td>\n",
       "      <td>Driver</td>\n",
       "      <td>11975094</td>\n",
       "      <td>NaN</td>\n",
       "      <td>4427132</td>\n",
       "    </tr>\n",
       "    <tr>\n",
       "      <th>11</th>\n",
       "      <td>2021-05-01</td>\n",
       "      <td>19:00</td>\n",
       "      <td>Killed</td>\n",
       "      <td>33.0</td>\n",
       "      <td>Head</td>\n",
       "      <td>None</td>\n",
       "      <td>M</td>\n",
       "      <td>Occupant</td>\n",
       "      <td>NaN</td>\n",
       "      <td>NaN</td>\n",
       "      <td>...</td>\n",
       "      <td>Concussion</td>\n",
       "      <td>Unconscious</td>\n",
       "      <td>19992731.0</td>\n",
       "      <td>9783283d-3bd0-421b-89d4-514378d6b65f</td>\n",
       "      <td>NaN</td>\n",
       "      <td>Driver</td>\n",
       "      <td>Driver</td>\n",
       "      <td>11830186</td>\n",
       "      <td>NaN</td>\n",
       "      <td>4413106</td>\n",
       "    </tr>\n",
       "    <tr>\n",
       "      <th>12</th>\n",
       "      <td>2021-07-03</td>\n",
       "      <td>9:00</td>\n",
       "      <td>Killed</td>\n",
       "      <td>20.0</td>\n",
       "      <td>Entire Body</td>\n",
       "      <td>Unknown</td>\n",
       "      <td>F</td>\n",
       "      <td>Occupant</td>\n",
       "      <td>NaN</td>\n",
       "      <td>NaN</td>\n",
       "      <td>...</td>\n",
       "      <td>Internal</td>\n",
       "      <td>Apparent Death</td>\n",
       "      <td>20012716.0</td>\n",
       "      <td>0aefbe8d-8339-4a6e-ab86-4185d4b10287</td>\n",
       "      <td>NaN</td>\n",
       "      <td>Front passenger, if two or more persons, inclu...</td>\n",
       "      <td>Passenger</td>\n",
       "      <td>11863936</td>\n",
       "      <td>NaN</td>\n",
       "      <td>4433549</td>\n",
       "    </tr>\n",
       "    <tr>\n",
       "      <th>13</th>\n",
       "      <td>2021-03-12</td>\n",
       "      <td>13:00</td>\n",
       "      <td>Killed</td>\n",
       "      <td>55.0</td>\n",
       "      <td>Head</td>\n",
       "      <td>NaN</td>\n",
       "      <td>M</td>\n",
       "      <td>Pedestrian</td>\n",
       "      <td>Pedestrian/Bicyclist/Other Pedestrian at Inter...</td>\n",
       "      <td>Unspecified</td>\n",
       "      <td>...</td>\n",
       "      <td>Internal</td>\n",
       "      <td>Unconscious</td>\n",
       "      <td>NaN</td>\n",
       "      <td>7f73c890-2d42-4776-ab36-f5d9dc6a9afc</td>\n",
       "      <td>Unspecified</td>\n",
       "      <td>NaN</td>\n",
       "      <td>Pedestrian</td>\n",
       "      <td>11766584</td>\n",
       "      <td>Crossing With Signal</td>\n",
       "      <td>4399201</td>\n",
       "    </tr>\n",
       "    <tr>\n",
       "      <th>14</th>\n",
       "      <td>2021-09-11</td>\n",
       "      <td>8:00</td>\n",
       "      <td>Killed</td>\n",
       "      <td>73.0</td>\n",
       "      <td>Head</td>\n",
       "      <td>NaN</td>\n",
       "      <td>F</td>\n",
       "      <td>Pedestrian</td>\n",
       "      <td>Pedestrian/Bicyclist/Other Pedestrian Not at I...</td>\n",
       "      <td>Unspecified</td>\n",
       "      <td>...</td>\n",
       "      <td>Crush Injuries</td>\n",
       "      <td>Unconscious</td>\n",
       "      <td>NaN</td>\n",
       "      <td>0db0f04c-515f-4198-99f4-3170d7684bc3</td>\n",
       "      <td>Pedestrian/Bicyclist/Other Pedestrian Error/Co...</td>\n",
       "      <td>NaN</td>\n",
       "      <td>Pedestrian</td>\n",
       "      <td>11945442</td>\n",
       "      <td>Crossing, No Signal, or Crosswalk</td>\n",
       "      <td>4456872</td>\n",
       "    </tr>\n",
       "  </tbody>\n",
       "</table>\n",
       "<p>15 rows × 21 columns</p>\n",
       "</div>"
      ],
      "text/plain": [
       "    CRASH_DATE CRASH_TIME PERSON_INJURY  PERSON_AGE BODILY_INJURY  \\\n",
       "0   2021-05-02      21:00        Killed        62.0          Head   \n",
       "1   2021-05-21       0:00        Killed        24.0   Entire Body   \n",
       "2   2021-10-15       2:00        Killed        30.0          Head   \n",
       "3   2021-04-17      13:00        Killed        71.0          Head   \n",
       "4   2021-05-25      22:00        Killed        69.0   Entire Body   \n",
       "5   2021-04-08      23:00        Killed        43.0          Head   \n",
       "6   2021-01-14      15:00        Killed        81.0   Entire Body   \n",
       "7   2021-01-20      19:00        Killed        60.0         Chest   \n",
       "8   2021-09-04      14:00        Killed        52.0   Entire Body   \n",
       "9   2021-05-03      23:00        Killed        21.0          Head   \n",
       "10  2021-06-12      16:00        Killed        57.0       Unknown   \n",
       "11  2021-05-01      19:00        Killed        33.0          Head   \n",
       "12  2021-07-03       9:00        Killed        20.0   Entire Body   \n",
       "13  2021-03-12      13:00        Killed        55.0          Head   \n",
       "14  2021-09-11       8:00        Killed        73.0          Head   \n",
       "\n",
       "      SAFETY_EQUIPMENT PERSON_SEX PERSON_TYPE  \\\n",
       "0                  NaN          F  Pedestrian   \n",
       "1     Air Bag Deployed          M    Occupant   \n",
       "2                 None          M    Occupant   \n",
       "3                  NaN          M  Pedestrian   \n",
       "4                  NaN          F  Pedestrian   \n",
       "5                  NaN          M  Pedestrian   \n",
       "6                  NaN          M  Pedestrian   \n",
       "7                  NaN          M  Pedestrian   \n",
       "8              Unknown          M    Occupant   \n",
       "9   Lap Belt & Harness          M    Occupant   \n",
       "10  Lap Belt & Harness          M    Occupant   \n",
       "11                None          M    Occupant   \n",
       "12             Unknown          F    Occupant   \n",
       "13                 NaN          M  Pedestrian   \n",
       "14                 NaN          F  Pedestrian   \n",
       "\n",
       "                                         PED_LOCATION  \\\n",
       "0   Pedestrian/Bicyclist/Other Pedestrian at Inter...   \n",
       "1                                                 NaN   \n",
       "2                                                 NaN   \n",
       "3   Pedestrian/Bicyclist/Other Pedestrian Not at I...   \n",
       "4   Pedestrian/Bicyclist/Other Pedestrian Not at I...   \n",
       "5   Pedestrian/Bicyclist/Other Pedestrian at Inter...   \n",
       "6   Pedestrian/Bicyclist/Other Pedestrian Not at I...   \n",
       "7   Pedestrian/Bicyclist/Other Pedestrian Not at I...   \n",
       "8                                                 NaN   \n",
       "9                                                 NaN   \n",
       "10                                                NaN   \n",
       "11                                                NaN   \n",
       "12                                                NaN   \n",
       "13  Pedestrian/Bicyclist/Other Pedestrian at Inter...   \n",
       "14  Pedestrian/Bicyclist/Other Pedestrian Not at I...   \n",
       "\n",
       "                                CONTRIBUTING_FACTOR_2  ...  \\\n",
       "0   Pedestrian/Bicyclist/Other Pedestrian Error/Co...  ...   \n",
       "1                                                 NaN  ...   \n",
       "2                                                 NaN  ...   \n",
       "3                                         Unspecified  ...   \n",
       "4                                         Unspecified  ...   \n",
       "5                                         Unspecified  ...   \n",
       "6   Pedestrian/Bicyclist/Other Pedestrian Error/Co...  ...   \n",
       "7                                         Unspecified  ...   \n",
       "8                                                 NaN  ...   \n",
       "9                                                 NaN  ...   \n",
       "10                                                NaN  ...   \n",
       "11                                                NaN  ...   \n",
       "12                                                NaN  ...   \n",
       "13                                        Unspecified  ...   \n",
       "14                                        Unspecified  ...   \n",
       "\n",
       "                      COMPLAINT EMOTIONAL_STATUS  VEHICLE_ID  \\\n",
       "0               Severe Bleeding   Apparent Death         NaN   \n",
       "1                      Internal   Apparent Death  19986231.0   \n",
       "2                      Internal   Apparent Death  20091024.0   \n",
       "3                      Internal      Unconscious         NaN   \n",
       "4                  None Visible        Conscious         NaN   \n",
       "5                      Internal      Unconscious         NaN   \n",
       "6   Complaint of Pain or Nausea   Apparent Death         NaN   \n",
       "7                      Internal   Apparent Death         NaN   \n",
       "8                      Internal      Unconscious  20083400.0   \n",
       "9                      Internal      Unconscious  19993860.0   \n",
       "10                      Unknown   Apparent Death  20077708.0   \n",
       "11                   Concussion      Unconscious  19992731.0   \n",
       "12                     Internal   Apparent Death  20012716.0   \n",
       "13                     Internal      Unconscious         NaN   \n",
       "14               Crush Injuries      Unconscious         NaN   \n",
       "\n",
       "                               PERSON_ID  \\\n",
       "0   f2f329b6-2dfc-4bd0-b751-2e4255f1ea06   \n",
       "1   e27e12a2-0485-4e22-b692-3f8a765d2582   \n",
       "2   1a6f5aa7-5125-4be2-8499-fe7977cb0d90   \n",
       "3   b950706b-00a4-485c-84c5-777208cc3cc9   \n",
       "4   6504ea0a-c92d-444c-8127-284943be9aac   \n",
       "5   5d4760cc-99d2-45af-b673-15777906fe18   \n",
       "6   8914628e-0494-4d6d-8d7d-d36abc5a5a73   \n",
       "7   2b94e71e-fc46-4648-ab4a-61ef283edbc8   \n",
       "8   f1d8ec06-018d-430c-8aef-ebe60e47d2a7   \n",
       "9   64974d87-d02f-42b1-a60b-58248a3e38de   \n",
       "10  809fd7af-1844-48a8-ad2e-f3b4ae1c0867   \n",
       "11  9783283d-3bd0-421b-89d4-514378d6b65f   \n",
       "12  0aefbe8d-8339-4a6e-ab86-4185d4b10287   \n",
       "13  7f73c890-2d42-4776-ab36-f5d9dc6a9afc   \n",
       "14  0db0f04c-515f-4198-99f4-3170d7684bc3   \n",
       "\n",
       "                                CONTRIBUTING_FACTOR_1  \\\n",
       "0                         Traffic Control Disregarded   \n",
       "1                                                 NaN   \n",
       "2                                                 NaN   \n",
       "3   Pedestrian/Bicyclist/Other Pedestrian Error/Co...   \n",
       "4                                         Unspecified   \n",
       "5   Pedestrian/Bicyclist/Other Pedestrian Error/Co...   \n",
       "6                                 Alcohol Involvement   \n",
       "7   Pedestrian/Bicyclist/Other Pedestrian Error/Co...   \n",
       "8                                                 NaN   \n",
       "9                                                 NaN   \n",
       "10                                                NaN   \n",
       "11                                                NaN   \n",
       "12                                                NaN   \n",
       "13                                        Unspecified   \n",
       "14  Pedestrian/Bicyclist/Other Pedestrian Error/Co...   \n",
       "\n",
       "                                  POSITION_IN_VEHICLE    PED_ROLE UNIQUE_ID  \\\n",
       "0                                                 NaN  Pedestrian  11791937   \n",
       "1                                              Driver      Driver  11819198   \n",
       "2                                              Driver      Driver  11998317   \n",
       "3                                                 NaN  Pedestrian  11745791   \n",
       "4                                                 NaN  Pedestrian  11991283   \n",
       "5                                                 NaN  Pedestrian  11784113   \n",
       "6                                                 NaN  Pedestrian  11589611   \n",
       "7                                                 NaN  Pedestrian  11558357   \n",
       "8                                              Driver      Driver  11985005   \n",
       "9                                              Driver      Driver  11832119   \n",
       "10                                             Driver      Driver  11975094   \n",
       "11                                             Driver      Driver  11830186   \n",
       "12  Front passenger, if two or more persons, inclu...   Passenger  11863936   \n",
       "13                                                NaN  Pedestrian  11766584   \n",
       "14                                                NaN  Pedestrian  11945442   \n",
       "\n",
       "                               PED_ACTION COLLISION_ID  \n",
       "0                 Crossing Against Signal      4412948  \n",
       "1                                     NaN      4419608  \n",
       "2                                     NaN      4467504  \n",
       "3       Crossing, No Signal, or Crosswalk      4408062  \n",
       "4   Crossing, No Signal, Marked Crosswalk      4420918  \n",
       "5                Other Actions in Roadway      4407069  \n",
       "6       Crossing, No Signal, or Crosswalk      4384065  \n",
       "7       Crossing, No Signal, or Crosswalk      4385848  \n",
       "8                                     NaN      4453643  \n",
       "9                                     NaN      4413273  \n",
       "10                                    NaN      4427132  \n",
       "11                                    NaN      4413106  \n",
       "12                                    NaN      4433549  \n",
       "13                   Crossing With Signal      4399201  \n",
       "14      Crossing, No Signal, or Crosswalk      4456872  \n",
       "\n",
       "[15 rows x 21 columns]"
      ]
     },
     "execution_count": 5,
     "metadata": {},
     "output_type": "execute_result"
    }
   ],
   "source": [
    "nyc_crash_df.iloc[:15]"
   ]
  },
  {
   "cell_type": "markdown",
   "metadata": {},
   "source": [
    "***Split the data between the genders to count how many men (M) and women (F) were involved in the car accidents, or undefined (U)***"
   ]
  },
  {
   "cell_type": "code",
   "execution_count": 6,
   "metadata": {},
   "outputs": [
    {
     "data": {
      "text/plain": [
       "PERSON_SEX\n",
       "M    27573\n",
       "F    18012\n",
       "U       84\n",
       "dtype: int64"
      ]
     },
     "execution_count": 6,
     "metadata": {},
     "output_type": "execute_result"
    }
   ],
   "source": [
    "nyc_crash_df.value_counts('PERSON_SEX')"
   ]
  },
  {
   "cell_type": "markdown",
   "metadata": {},
   "source": [
    "***Quick bar plot visualization of gender makeup for dataset***"
   ]
  },
  {
   "cell_type": "code",
   "execution_count": 7,
   "metadata": {},
   "outputs": [
    {
     "data": {
      "text/plain": [
       "<AxesSubplot:xlabel='PERSON_SEX'>"
      ]
     },
     "execution_count": 7,
     "metadata": {},
     "output_type": "execute_result"
    },
    {
     "data": {
      "image/png": "[encoded data removed]",
      "text/plain": [
       "<Figure size 576x288 with 1 Axes>"
      ]
     },
     "metadata": {
      "needs_background": "light"
     },
     "output_type": "display_data"
    }
   ],
   "source": [
    "nyc_crash_df.value_counts('PERSON_SEX').plot(kind='bar')"
   ]
  },
  {
   "cell_type": "markdown",
   "metadata": {},
   "source": [
    "***Sort by person's age from youngest, using a filtered off amount to eliminate negative values***"
   ]
  },
  {
   "cell_type": "code",
   "execution_count": 55,
   "metadata": {},
   "outputs": [
    {
     "data": {
      "text/html": [
       "<div>\n",
       "<style scoped>\n",
       "    .dataframe tbody tr th:only-of-type {\n",
       "        vertical-align: middle;\n",
       "    }\n",
       "\n",
       "    .dataframe tbody tr th {\n",
       "        vertical-align: top;\n",
       "    }\n",
       "\n",
       "    .dataframe thead th {\n",
       "        text-align: right;\n",
       "    }\n",
       "</style>\n",
       "<table border=\"1\" class=\"dataframe\">\n",
       "  <thead>\n",
       "    <tr style=\"text-align: right;\">\n",
       "      <th></th>\n",
       "      <th>CRASH_DATE</th>\n",
       "      <th>CRASH_TIME</th>\n",
       "      <th>PERSON_INJURY</th>\n",
       "      <th>PERSON_AGE</th>\n",
       "      <th>BODILY_INJURY</th>\n",
       "      <th>SAFETY_EQUIPMENT</th>\n",
       "      <th>PERSON_SEX</th>\n",
       "      <th>PERSON_TYPE</th>\n",
       "      <th>PED_LOCATION</th>\n",
       "      <th>CONTRIBUTING_FACTOR_2</th>\n",
       "      <th>...</th>\n",
       "      <th>COMPLAINT</th>\n",
       "      <th>EMOTIONAL_STATUS</th>\n",
       "      <th>VEHICLE_ID</th>\n",
       "      <th>PERSON_ID</th>\n",
       "      <th>CONTRIBUTING_FACTOR_1</th>\n",
       "      <th>POSITION_IN_VEHICLE</th>\n",
       "      <th>PED_ROLE</th>\n",
       "      <th>UNIQUE_ID</th>\n",
       "      <th>PED_ACTION</th>\n",
       "      <th>COLLISION_ID</th>\n",
       "    </tr>\n",
       "  </thead>\n",
       "  <tbody>\n",
       "    <tr>\n",
       "      <th>33472</th>\n",
       "      <td>2021-02-04</td>\n",
       "      <td>9:00</td>\n",
       "      <td>Injured</td>\n",
       "      <td>0.0</td>\n",
       "      <td>Head</td>\n",
       "      <td>NaN</td>\n",
       "      <td>F</td>\n",
       "      <td>Pedestrian</td>\n",
       "      <td>Pedestrian/Bicyclist/Other Pedestrian at Inter...</td>\n",
       "      <td>Unspecified</td>\n",
       "      <td>...</td>\n",
       "      <td>Complaint of Pain or Nausea</td>\n",
       "      <td>Conscious</td>\n",
       "      <td>NaN</td>\n",
       "      <td>b34c655b-03ff-4384-b413-67a17a91bb43</td>\n",
       "      <td>Pedestrian/Bicyclist/Other Pedestrian Error/Co...</td>\n",
       "      <td>NaN</td>\n",
       "      <td>Pedestrian</td>\n",
       "      <td>11574133</td>\n",
       "      <td>Crossing With Signal</td>\n",
       "      <td>4390239</td>\n",
       "    </tr>\n",
       "    <tr>\n",
       "      <th>17100</th>\n",
       "      <td>2021-10-27</td>\n",
       "      <td>23:00</td>\n",
       "      <td>Injured</td>\n",
       "      <td>0.0</td>\n",
       "      <td>Unknown</td>\n",
       "      <td>Unknown</td>\n",
       "      <td>F</td>\n",
       "      <td>Occupant</td>\n",
       "      <td>NaN</td>\n",
       "      <td>NaN</td>\n",
       "      <td>...</td>\n",
       "      <td>Unknown</td>\n",
       "      <td>Unknown</td>\n",
       "      <td>20101755.0</td>\n",
       "      <td>8167eeb4-c672-4bb1-ac16-52ffd8579c28</td>\n",
       "      <td>NaN</td>\n",
       "      <td>Front passenger, if two or more persons, inclu...</td>\n",
       "      <td>Passenger</td>\n",
       "      <td>12017162</td>\n",
       "      <td>NaN</td>\n",
       "      <td>4475482</td>\n",
       "    </tr>\n",
       "    <tr>\n",
       "      <th>6489</th>\n",
       "      <td>2021-07-12</td>\n",
       "      <td>0:00</td>\n",
       "      <td>Injured</td>\n",
       "      <td>0.0</td>\n",
       "      <td>Back</td>\n",
       "      <td>Unknown</td>\n",
       "      <td>F</td>\n",
       "      <td>Occupant</td>\n",
       "      <td>NaN</td>\n",
       "      <td>NaN</td>\n",
       "      <td>...</td>\n",
       "      <td>Complaint of Pain or Nausea</td>\n",
       "      <td>Conscious</td>\n",
       "      <td>20015007.0</td>\n",
       "      <td>3e8dd1ca-6f4d-4c4b-a2c4-5db4d72abf5e</td>\n",
       "      <td>NaN</td>\n",
       "      <td>Front passenger, if two or more persons, inclu...</td>\n",
       "      <td>Passenger</td>\n",
       "      <td>11867832</td>\n",
       "      <td>NaN</td>\n",
       "      <td>4435939</td>\n",
       "    </tr>\n",
       "    <tr>\n",
       "      <th>12169</th>\n",
       "      <td>2021-10-08</td>\n",
       "      <td>11:00</td>\n",
       "      <td>Injured</td>\n",
       "      <td>0.0</td>\n",
       "      <td>Unknown</td>\n",
       "      <td>Unknown</td>\n",
       "      <td>U</td>\n",
       "      <td>Occupant</td>\n",
       "      <td>NaN</td>\n",
       "      <td>NaN</td>\n",
       "      <td>...</td>\n",
       "      <td>Unknown</td>\n",
       "      <td>Unknown</td>\n",
       "      <td>20092043.0</td>\n",
       "      <td>9541b4da-7491-440e-b332-7ce867af6528</td>\n",
       "      <td>NaN</td>\n",
       "      <td>Unknown</td>\n",
       "      <td>Passenger</td>\n",
       "      <td>12000087</td>\n",
       "      <td>NaN</td>\n",
       "      <td>4470784</td>\n",
       "    </tr>\n",
       "    <tr>\n",
       "      <th>19221</th>\n",
       "      <td>2021-08-30</td>\n",
       "      <td>23:00</td>\n",
       "      <td>Injured</td>\n",
       "      <td>0.0</td>\n",
       "      <td>Head</td>\n",
       "      <td>Child Restraint Only</td>\n",
       "      <td>M</td>\n",
       "      <td>Occupant</td>\n",
       "      <td>NaN</td>\n",
       "      <td>NaN</td>\n",
       "      <td>...</td>\n",
       "      <td>None Visible</td>\n",
       "      <td>Conscious</td>\n",
       "      <td>20061529.0</td>\n",
       "      <td>96ac5a7b-4e11-4af0-a8dc-b72ff6e27dc1</td>\n",
       "      <td>NaN</td>\n",
       "      <td>Middle rear seat, or passenger lying across a ...</td>\n",
       "      <td>Passenger</td>\n",
       "      <td>11947330</td>\n",
       "      <td>NaN</td>\n",
       "      <td>4456520</td>\n",
       "    </tr>\n",
       "    <tr>\n",
       "      <th>...</th>\n",
       "      <td>...</td>\n",
       "      <td>...</td>\n",
       "      <td>...</td>\n",
       "      <td>...</td>\n",
       "      <td>...</td>\n",
       "      <td>...</td>\n",
       "      <td>...</td>\n",
       "      <td>...</td>\n",
       "      <td>...</td>\n",
       "      <td>...</td>\n",
       "      <td>...</td>\n",
       "      <td>...</td>\n",
       "      <td>...</td>\n",
       "      <td>...</td>\n",
       "      <td>...</td>\n",
       "      <td>...</td>\n",
       "      <td>...</td>\n",
       "      <td>...</td>\n",
       "      <td>...</td>\n",
       "      <td>...</td>\n",
       "      <td>...</td>\n",
       "    </tr>\n",
       "    <tr>\n",
       "      <th>45102</th>\n",
       "      <td>2021-05-23</td>\n",
       "      <td>14:00</td>\n",
       "      <td>Injured</td>\n",
       "      <td>NaN</td>\n",
       "      <td>Unknown</td>\n",
       "      <td>NaN</td>\n",
       "      <td>M</td>\n",
       "      <td>Pedestrian</td>\n",
       "      <td>Pedestrian/Bicyclist/Other Pedestrian Not at I...</td>\n",
       "      <td>Pedestrian/Bicyclist/Other Pedestrian Error/Co...</td>\n",
       "      <td>...</td>\n",
       "      <td>Unknown</td>\n",
       "      <td>Unknown</td>\n",
       "      <td>NaN</td>\n",
       "      <td>a1531a04-4a1e-4293-bbd8-65c4357c6bf2</td>\n",
       "      <td>Pedestrian/Bicyclist/Other Pedestrian Error/Co...</td>\n",
       "      <td>NaN</td>\n",
       "      <td>Pedestrian</td>\n",
       "      <td>11754630</td>\n",
       "      <td>Crossing, No Signal, or Crosswalk</td>\n",
       "      <td>4419528</td>\n",
       "    </tr>\n",
       "    <tr>\n",
       "      <th>45125</th>\n",
       "      <td>2021-06-29</td>\n",
       "      <td>10:00</td>\n",
       "      <td>Injured</td>\n",
       "      <td>NaN</td>\n",
       "      <td>Back</td>\n",
       "      <td>NaN</td>\n",
       "      <td>M</td>\n",
       "      <td>Pedestrian</td>\n",
       "      <td>Pedestrian/Bicyclist/Other Pedestrian at Inter...</td>\n",
       "      <td>Unspecified</td>\n",
       "      <td>...</td>\n",
       "      <td>Complaint of Pain or Nausea</td>\n",
       "      <td>Conscious</td>\n",
       "      <td>NaN</td>\n",
       "      <td>ac121fef-a138-4a89-9601-ef2c748745ae</td>\n",
       "      <td>Unspecified</td>\n",
       "      <td>NaN</td>\n",
       "      <td>Pedestrian</td>\n",
       "      <td>11843031</td>\n",
       "      <td>Crossing With Signal</td>\n",
       "      <td>4432169</td>\n",
       "    </tr>\n",
       "    <tr>\n",
       "      <th>45262</th>\n",
       "      <td>2021-04-16</td>\n",
       "      <td>7:00</td>\n",
       "      <td>Injured</td>\n",
       "      <td>NaN</td>\n",
       "      <td>Shoulder - Upper Arm</td>\n",
       "      <td>NaN</td>\n",
       "      <td>F</td>\n",
       "      <td>Pedestrian</td>\n",
       "      <td>Pedestrian/Bicyclist/Other Pedestrian at Inter...</td>\n",
       "      <td>Unspecified</td>\n",
       "      <td>...</td>\n",
       "      <td>Complaint of Pain or Nausea</td>\n",
       "      <td>Conscious</td>\n",
       "      <td>NaN</td>\n",
       "      <td>2c9abdb1-ff7c-47f0-a359-44780f0c099b</td>\n",
       "      <td>Unspecified</td>\n",
       "      <td>NaN</td>\n",
       "      <td>Pedestrian</td>\n",
       "      <td>11813975</td>\n",
       "      <td>Does Not Apply</td>\n",
       "      <td>4409071</td>\n",
       "    </tr>\n",
       "    <tr>\n",
       "      <th>45351</th>\n",
       "      <td>2021-06-02</td>\n",
       "      <td>12:00</td>\n",
       "      <td>Injured</td>\n",
       "      <td>NaN</td>\n",
       "      <td>Elbow-Lower-Arm-Hand</td>\n",
       "      <td>Lap Belt &amp; Harness</td>\n",
       "      <td>M</td>\n",
       "      <td>Occupant</td>\n",
       "      <td>NaN</td>\n",
       "      <td>NaN</td>\n",
       "      <td>...</td>\n",
       "      <td>Minor Bleeding</td>\n",
       "      <td>Conscious</td>\n",
       "      <td>20000377.0</td>\n",
       "      <td>b7e3e541-ba4c-48d7-8ba1-58053e49b133</td>\n",
       "      <td>NaN</td>\n",
       "      <td>Driver</td>\n",
       "      <td>Driver</td>\n",
       "      <td>11843131</td>\n",
       "      <td>NaN</td>\n",
       "      <td>4422912</td>\n",
       "    </tr>\n",
       "    <tr>\n",
       "      <th>45531</th>\n",
       "      <td>2021-06-09</td>\n",
       "      <td>12:00</td>\n",
       "      <td>Injured</td>\n",
       "      <td>NaN</td>\n",
       "      <td>Unknown</td>\n",
       "      <td>Lap Belt &amp; Harness</td>\n",
       "      <td>M</td>\n",
       "      <td>Occupant</td>\n",
       "      <td>NaN</td>\n",
       "      <td>NaN</td>\n",
       "      <td>...</td>\n",
       "      <td>Unknown</td>\n",
       "      <td>Unknown</td>\n",
       "      <td>19971509.0</td>\n",
       "      <td>5d133065-1e2f-4788-a4d3-72dd317805ab</td>\n",
       "      <td>NaN</td>\n",
       "      <td>Right rear passenger or motorcycle sidecar pas...</td>\n",
       "      <td>Passenger</td>\n",
       "      <td>11794190</td>\n",
       "      <td>NaN</td>\n",
       "      <td>4427765</td>\n",
       "    </tr>\n",
       "  </tbody>\n",
       "</table>\n",
       "<p>45649 rows × 21 columns</p>\n",
       "</div>"
      ],
      "text/plain": [
       "       CRASH_DATE CRASH_TIME PERSON_INJURY  PERSON_AGE         BODILY_INJURY  \\\n",
       "33472  2021-02-04       9:00       Injured         0.0                  Head   \n",
       "17100  2021-10-27      23:00       Injured         0.0               Unknown   \n",
       "6489   2021-07-12       0:00       Injured         0.0                  Back   \n",
       "12169  2021-10-08      11:00       Injured         0.0               Unknown   \n",
       "19221  2021-08-30      23:00       Injured         0.0                  Head   \n",
       "...           ...        ...           ...         ...                   ...   \n",
       "45102  2021-05-23      14:00       Injured         NaN               Unknown   \n",
       "45125  2021-06-29      10:00       Injured         NaN                  Back   \n",
       "45262  2021-04-16       7:00       Injured         NaN  Shoulder - Upper Arm   \n",
       "45351  2021-06-02      12:00       Injured         NaN  Elbow-Lower-Arm-Hand   \n",
       "45531  2021-06-09      12:00       Injured         NaN               Unknown   \n",
       "\n",
       "           SAFETY_EQUIPMENT PERSON_SEX PERSON_TYPE  \\\n",
       "33472                   NaN          F  Pedestrian   \n",
       "17100               Unknown          F    Occupant   \n",
       "6489                Unknown          F    Occupant   \n",
       "12169               Unknown          U    Occupant   \n",
       "19221  Child Restraint Only          M    Occupant   \n",
       "...                     ...        ...         ...   \n",
       "45102                   NaN          M  Pedestrian   \n",
       "45125                   NaN          M  Pedestrian   \n",
       "45262                   NaN          F  Pedestrian   \n",
       "45351    Lap Belt & Harness          M    Occupant   \n",
       "45531    Lap Belt & Harness          M    Occupant   \n",
       "\n",
       "                                            PED_LOCATION  \\\n",
       "33472  Pedestrian/Bicyclist/Other Pedestrian at Inter...   \n",
       "17100                                                NaN   \n",
       "6489                                                 NaN   \n",
       "12169                                                NaN   \n",
       "19221                                                NaN   \n",
       "...                                                  ...   \n",
       "45102  Pedestrian/Bicyclist/Other Pedestrian Not at I...   \n",
       "45125  Pedestrian/Bicyclist/Other Pedestrian at Inter...   \n",
       "45262  Pedestrian/Bicyclist/Other Pedestrian at Inter...   \n",
       "45351                                                NaN   \n",
       "45531                                                NaN   \n",
       "\n",
       "                                   CONTRIBUTING_FACTOR_2  ...  \\\n",
       "33472                                        Unspecified  ...   \n",
       "17100                                                NaN  ...   \n",
       "6489                                                 NaN  ...   \n",
       "12169                                                NaN  ...   \n",
       "19221                                                NaN  ...   \n",
       "...                                                  ...  ...   \n",
       "45102  Pedestrian/Bicyclist/Other Pedestrian Error/Co...  ...   \n",
       "45125                                        Unspecified  ...   \n",
       "45262                                        Unspecified  ...   \n",
       "45351                                                NaN  ...   \n",
       "45531                                                NaN  ...   \n",
       "\n",
       "                         COMPLAINT EMOTIONAL_STATUS  VEHICLE_ID  \\\n",
       "33472  Complaint of Pain or Nausea        Conscious         NaN   \n",
       "17100                      Unknown          Unknown  20101755.0   \n",
       "6489   Complaint of Pain or Nausea        Conscious  20015007.0   \n",
       "12169                      Unknown          Unknown  20092043.0   \n",
       "19221                 None Visible        Conscious  20061529.0   \n",
       "...                            ...              ...         ...   \n",
       "45102                      Unknown          Unknown         NaN   \n",
       "45125  Complaint of Pain or Nausea        Conscious         NaN   \n",
       "45262  Complaint of Pain or Nausea        Conscious         NaN   \n",
       "45351               Minor Bleeding        Conscious  20000377.0   \n",
       "45531                      Unknown          Unknown  19971509.0   \n",
       "\n",
       "                                  PERSON_ID  \\\n",
       "33472  b34c655b-03ff-4384-b413-67a17a91bb43   \n",
       "17100  8167eeb4-c672-4bb1-ac16-52ffd8579c28   \n",
       "6489   3e8dd1ca-6f4d-4c4b-a2c4-5db4d72abf5e   \n",
       "12169  9541b4da-7491-440e-b332-7ce867af6528   \n",
       "19221  96ac5a7b-4e11-4af0-a8dc-b72ff6e27dc1   \n",
       "...                                     ...   \n",
       "45102  a1531a04-4a1e-4293-bbd8-65c4357c6bf2   \n",
       "45125  ac121fef-a138-4a89-9601-ef2c748745ae   \n",
       "45262  2c9abdb1-ff7c-47f0-a359-44780f0c099b   \n",
       "45351  b7e3e541-ba4c-48d7-8ba1-58053e49b133   \n",
       "45531  5d133065-1e2f-4788-a4d3-72dd317805ab   \n",
       "\n",
       "                                   CONTRIBUTING_FACTOR_1  \\\n",
       "33472  Pedestrian/Bicyclist/Other Pedestrian Error/Co...   \n",
       "17100                                                NaN   \n",
       "6489                                                 NaN   \n",
       "12169                                                NaN   \n",
       "19221                                                NaN   \n",
       "...                                                  ...   \n",
       "45102  Pedestrian/Bicyclist/Other Pedestrian Error/Co...   \n",
       "45125                                        Unspecified   \n",
       "45262                                        Unspecified   \n",
       "45351                                                NaN   \n",
       "45531                                                NaN   \n",
       "\n",
       "                                     POSITION_IN_VEHICLE    PED_ROLE  \\\n",
       "33472                                                NaN  Pedestrian   \n",
       "17100  Front passenger, if two or more persons, inclu...   Passenger   \n",
       "6489   Front passenger, if two or more persons, inclu...   Passenger   \n",
       "12169                                            Unknown   Passenger   \n",
       "19221  Middle rear seat, or passenger lying across a ...   Passenger   \n",
       "...                                                  ...         ...   \n",
       "45102                                                NaN  Pedestrian   \n",
       "45125                                                NaN  Pedestrian   \n",
       "45262                                                NaN  Pedestrian   \n",
       "45351                                             Driver      Driver   \n",
       "45531  Right rear passenger or motorcycle sidecar pas...   Passenger   \n",
       "\n",
       "      UNIQUE_ID                         PED_ACTION COLLISION_ID  \n",
       "33472  11574133               Crossing With Signal      4390239  \n",
       "17100  12017162                                NaN      4475482  \n",
       "6489   11867832                                NaN      4435939  \n",
       "12169  12000087                                NaN      4470784  \n",
       "19221  11947330                                NaN      4456520  \n",
       "...         ...                                ...          ...  \n",
       "45102  11754630  Crossing, No Signal, or Crosswalk      4419528  \n",
       "45125  11843031               Crossing With Signal      4432169  \n",
       "45262  11813975                     Does Not Apply      4409071  \n",
       "45351  11843131                                NaN      4422912  \n",
       "45531  11794190                                NaN      4427765  \n",
       "\n",
       "[45649 rows x 21 columns]"
      ]
     },
     "execution_count": 55,
     "metadata": {},
     "output_type": "execute_result"
    }
   ],
   "source": [
    "nyc_crash_df.sort_values('PERSON_AGE')[20:]"
   ]
  },
  {
   "cell_type": "markdown",
   "metadata": {},
   "source": [
    "***Histogram plot evaluation of the age makeup for the dataset***"
   ]
  },
  {
   "cell_type": "code",
   "execution_count": 9,
   "metadata": {},
   "outputs": [
    {
     "data": {
      "text/plain": [
       "<AxesSubplot:ylabel='Frequency'>"
      ]
     },
     "execution_count": 9,
     "metadata": {},
     "output_type": "execute_result"
    },
    {
     "data": {
      "image/png": "[encoded data removed]",
      "text/plain": [
       "<Figure size 576x288 with 1 Axes>"
      ]
     },
     "metadata": {
      "needs_background": "light"
     },
     "output_type": "display_data"
    }
   ],
   "source": [
    "nyc_crash_df['PERSON_AGE'].plot(kind='hist')"
   ]
  },
  {
   "cell_type": "markdown",
   "metadata": {},
   "source": [
    "***Using the groupby method on the dataset, we can find the average (mean) age of car accident victims filtered by their gender***"
   ]
  },
  {
   "cell_type": "code",
   "execution_count": 10,
   "metadata": {},
   "outputs": [
    {
     "data": {
      "text/plain": [
       "PERSON_SEX\n",
       "F    38.75\n",
       "M    36.68\n",
       "U    31.67\n",
       "Name: PERSON_AGE, dtype: float64"
      ]
     },
     "execution_count": 10,
     "metadata": {},
     "output_type": "execute_result"
    }
   ],
   "source": [
    "nyc_crash_df.groupby('PERSON_SEX')['PERSON_AGE'].mean().round(2)"
   ]
  },
  {
   "cell_type": "markdown",
   "metadata": {},
   "source": [
    "***Using the groupby method on the dataset, we can filter out the average age of individual's who were either injured or killed. Interestingly, we can see here that the mean age of those killed was significantly higher than those who were injured. One can make a generalization here that this is due to the likelihood of older victims not surviving impact at the same degree of younger victims.***\n",
    "\n",
    "***We then proceed to plot this out in the following cell***"
   ]
  },
  {
   "cell_type": "code",
   "execution_count": 11,
   "metadata": {},
   "outputs": [
    {
     "data": {
      "text/plain": [
       "PERSON_INJURY\n",
       "Injured    37.44\n",
       "Killed     46.31\n",
       "Name: PERSON_AGE, dtype: float64"
      ]
     },
     "execution_count": 11,
     "metadata": {},
     "output_type": "execute_result"
    }
   ],
   "source": [
    "nyc_crash_df.groupby('PERSON_INJURY')['PERSON_AGE'].mean().round(2)"
   ]
  },
  {
   "cell_type": "code",
   "execution_count": 12,
   "metadata": {},
   "outputs": [
    {
     "data": {
      "text/plain": [
       "<AxesSubplot:xlabel='PERSON_INJURY'>"
      ]
     },
     "execution_count": 12,
     "metadata": {},
     "output_type": "execute_result"
    },
    {
     "data": {
      "image/png": "[encoded data removed]",
      "text/plain": [
       "<Figure size 576x288 with 1 Axes>"
      ]
     },
     "metadata": {
      "needs_background": "light"
     },
     "output_type": "display_data"
    }
   ],
   "source": [
    "nyc_crash_df.groupby('PERSON_INJURY')['PERSON_AGE'].mean().round(2).plot(kind='bar')"
   ]
  },
  {
   "cell_type": "markdown",
   "metadata": {},
   "source": [
    "***Here we identify all of the unique data values for the position in vehicle column***"
   ]
  },
  {
   "cell_type": "code",
   "execution_count": 13,
   "metadata": {},
   "outputs": [
    {
     "name": "stdout",
     "output_type": "stream",
     "text": [
      "nan\n",
      "Driver\n",
      "Front passenger, if two or more persons, including the driver, are in the front seat\n",
      "Right rear passenger or motorcycle sidecar passenger\n",
      "Riding/Hanging on Outside\n",
      "Left rear passenger, or rear passenger on a bicycle, motorcycle, snowmobile\n",
      "Middle rear seat, or passenger lying across a seat\n",
      "Any person in the rear of a station wagon, pick-up truck, all passengers on a bus, etc\n",
      "Middle front seat, or passenger lying across a seat\n",
      "Unknown\n",
      "If one person is seated on another person&apos;s lap\n"
     ]
    }
   ],
   "source": [
    "for x in nyc_crash_df['POSITION_IN_VEHICLE'].unique():\n",
    "    print(x)"
   ]
  },
  {
   "cell_type": "markdown",
   "metadata": {},
   "source": [
    "***Perhaps more informatively we can view each of these unique values and the amount they appear in the dataset***\n",
    "\n",
    "***Here, we can see that the most common position in the vehicle was the \"driver\" position, followed by front, right rear, and left rear passengers***\n",
    "\n",
    "***This is followed by a quick bar plot visualization for this data***"
   ]
  },
  {
   "cell_type": "code",
   "execution_count": 14,
   "metadata": {},
   "outputs": [
    {
     "data": {
      "text/plain": [
       "Driver                                                                                    26053\n",
       "Front passenger, if two or more persons, including the driver, are in the front seat       5403\n",
       "Right rear passenger or motorcycle sidecar passenger                                       2798\n",
       "Left rear passenger, or rear passenger on a bicycle, motorcycle, snowmobile                2491\n",
       "Middle rear seat, or passenger lying across a seat                                          656\n",
       "Unknown                                                                                     622\n",
       "Riding/Hanging on Outside                                                                   527\n",
       "Middle front seat, or passenger lying across a seat                                         440\n",
       "Any person in the rear of a station wagon, pick-up truck, all passengers on a bus, etc      433\n",
       "If one person is seated on another person&apos;s lap                                         25\n",
       "Name: POSITION_IN_VEHICLE, dtype: int64"
      ]
     },
     "execution_count": 14,
     "metadata": {},
     "output_type": "execute_result"
    }
   ],
   "source": [
    "nyc_crash_df['POSITION_IN_VEHICLE'].value_counts()"
   ]
  },
  {
   "cell_type": "code",
   "execution_count": 15,
   "metadata": {},
   "outputs": [
    {
     "data": {
      "text/plain": [
       "Text(0.5, 1.0, 'Unique Value Counts for Position in Vehicle')"
      ]
     },
     "execution_count": 15,
     "metadata": {},
     "output_type": "execute_result"
    },
    {
     "data": {
      "image/png": "[encoded data removed]",
      "text/plain": [
       "<Figure size 576x360 with 1 Axes>"
      ]
     },
     "metadata": {
      "needs_background": "light"
     },
     "output_type": "display_data"
    }
   ],
   "source": [
    "plt.figure(figsize=(8,5))\n",
    "\n",
    "counts = nyc_crash_df['POSITION_IN_VEHICLE'].value_counts()\n",
    "\n",
    "# Plot the bar data visual\n",
    "plt.barh(counts.index, counts.values)\n",
    "\n",
    "plt.xticks(rotation=85, fontsize=5)\n",
    "\n",
    "# Add labels and title\n",
    "plt.xlabel(\"Count\")\n",
    "plt.ylabel(\"Position in Vehicle\")\n",
    "plt.title(\"Unique Value Counts for Position in Vehicle\")"
   ]
  },
  {
   "cell_type": "markdown",
   "metadata": {},
   "source": [
    "***View unique values and then value counts of the \"Emotional status\" columns***"
   ]
  },
  {
   "cell_type": "code",
   "execution_count": 16,
   "metadata": {},
   "outputs": [
    {
     "data": {
      "text/plain": [
       "array(['Apparent Death', 'Unconscious', 'Conscious', 'Shock',\n",
       "       'Semiconscious', 'Does Not Apply', 'Unknown', 'Incoherent'],\n",
       "      dtype=object)"
      ]
     },
     "execution_count": 16,
     "metadata": {},
     "output_type": "execute_result"
    }
   ],
   "source": [
    "nyc_crash_df['EMOTIONAL_STATUS'].unique()"
   ]
  },
  {
   "cell_type": "code",
   "execution_count": 17,
   "metadata": {},
   "outputs": [
    {
     "data": {
      "text/plain": [
       "Conscious         42180\n",
       "Shock              1244\n",
       "Unknown            1186\n",
       "Unconscious         306\n",
       "Semiconscious       297\n",
       "Incoherent          184\n",
       "Apparent Death      168\n",
       "Does Not Apply      104\n",
       "Name: EMOTIONAL_STATUS, dtype: int64"
      ]
     },
     "execution_count": 17,
     "metadata": {},
     "output_type": "execute_result"
    }
   ],
   "source": [
    "nyc_crash_df['EMOTIONAL_STATUS'].value_counts()"
   ]
  },
  {
   "cell_type": "markdown",
   "metadata": {},
   "source": [
    "***Here, we want to analyze the average age makeup when taking into consideration the emotional status of the individual, using the groupby method***\n",
    "\n",
    "***We then proceed to plot the data on a barplot***"
   ]
  },
  {
   "cell_type": "code",
   "execution_count": 18,
   "metadata": {},
   "outputs": [
    {
     "data": {
      "text/plain": [
       "EMOTIONAL_STATUS\n",
       "Apparent Death    44.0\n",
       "Conscious         37.0\n",
       "Does Not Apply    39.0\n",
       "Incoherent        41.0\n",
       "Semiconscious     37.0\n",
       "Shock             38.0\n",
       "Unconscious       39.0\n",
       "Unknown           37.0\n",
       "Name: PERSON_AGE, dtype: float64"
      ]
     },
     "execution_count": 18,
     "metadata": {},
     "output_type": "execute_result"
    }
   ],
   "source": [
    "nyc_crash_df.groupby('EMOTIONAL_STATUS')['PERSON_AGE'].mean().round(0)"
   ]
  },
  {
   "cell_type": "code",
   "execution_count": 19,
   "metadata": {},
   "outputs": [
    {
     "data": {
      "text/plain": [
       "Text(0.5, 1.0, 'Unique Value Counts for Emotional Status')"
      ]
     },
     "execution_count": 19,
     "metadata": {},
     "output_type": "execute_result"
    },
    {
     "data": {
      "image/png": "[encoded data removed]",
      "text/plain": [
       "<Figure size 576x360 with 1 Axes>"
      ]
     },
     "metadata": {
      "needs_background": "light"
     },
     "output_type": "display_data"
    }
   ],
   "source": [
    "plt.figure(figsize=(8,5))\n",
    "\n",
    "# Create a list of colors for the bars\n",
    "colors = [\"maroon\", \"green\", \"blue\", \"orange\", \"yellow\", \"purple\", \"pink\", \"gray\", \"black\", \"brown\"]\n",
    "\n",
    "counts = nyc_crash_df['EMOTIONAL_STATUS'].value_counts()\n",
    "\n",
    "# Plot the bar data visual\n",
    "plt.barh(counts.index, counts.values, color=colors)\n",
    "\n",
    "plt.xticks(rotation=85, fontsize=5)\n",
    "\n",
    "# Add labels and title\n",
    "plt.xlabel(\"Count\")\n",
    "plt.ylabel(\"Emotional Status\")\n",
    "plt.title(\"Unique Value Counts for Emotional Status\")"
   ]
  },
  {
   "cell_type": "markdown",
   "metadata": {},
   "source": [
    "***We then explore the makeup of the complaint column, which describes complaints/injuries victims made during the motor vehicle accidents***\n",
    "\n",
    "***We then use a barplot to plot this out***"
   ]
  },
  {
   "cell_type": "code",
   "execution_count": 20,
   "metadata": {},
   "outputs": [
    {
     "data": {
      "text/plain": [
       "Complaint of Pain or Nausea           27958\n",
       "None Visible                           4870\n",
       "Minor Bleeding                         2719\n",
       "Contusion - Bruise                     2252\n",
       "Whiplash                               1909\n",
       "Unknown                                1708\n",
       "Abrasion                               1674\n",
       "Fracture - Distorted - Dislocation      883\n",
       "Internal                                631\n",
       "Concussion                              333\n",
       "Severe Bleeding                         201\n",
       "Severe Lacerations                      184\n",
       "Crush Injuries                          182\n",
       "Minor Burn                              120\n",
       "Moderate Burn                            26\n",
       "Amputation                                8\n",
       "Severe Burn                               7\n",
       "Paralysis                                 3\n",
       "Does Not Apply                            1\n",
       "Name: COMPLAINT, dtype: int64"
      ]
     },
     "execution_count": 20,
     "metadata": {},
     "output_type": "execute_result"
    }
   ],
   "source": [
    "nyc_crash_df['COMPLAINT'].value_counts()"
   ]
  },
  {
   "cell_type": "code",
   "execution_count": 21,
   "metadata": {},
   "outputs": [
    {
     "data": {
      "text/plain": [
       "Text(0.5, 1.0, 'Unique Value Counts for Complaints')"
      ]
     },
     "execution_count": 21,
     "metadata": {},
     "output_type": "execute_result"
    },
    {
     "data": {
      "image/png": "[encoded data removed]",
      "text/plain": [
       "<Figure size 576x360 with 1 Axes>"
      ]
     },
     "metadata": {
      "needs_background": "light"
     },
     "output_type": "display_data"
    }
   ],
   "source": [
    "plt.figure(figsize=(8,5))\n",
    "\n",
    "counts = nyc_crash_df['COMPLAINT'].value_counts()\n",
    "\n",
    "# Plot the bar data visual\n",
    "plt.barh(counts.index, counts.values, color=colors)\n",
    "\n",
    "plt.xticks(rotation=85, fontsize=5)\n",
    "\n",
    "# Add labels and title\n",
    "plt.xlabel(\"Count\")\n",
    "plt.ylabel(\"Complaint\")\n",
    "plt.title(\"Unique Value Counts for Complaints\")"
   ]
  },
  {
   "cell_type": "markdown",
   "metadata": {},
   "source": [
    "***Here, we use the Seaborn technology to make this barplot concerning the average age of different complaints***\n",
    "\n",
    "***Interestingly, we can note here that the average age of individuals suffering from \"crush\" injuries was significantly higher than other complaint types. One could assume this is due to the fact that senior individuals would likely have fraile bones and therefore be more suceptible to crush injuries***"
   ]
  },
  {
   "cell_type": "code",
   "execution_count": 22,
   "metadata": {},
   "outputs": [
    {
     "data": {
      "text/plain": [
       "<AxesSubplot:ylabel='PERSON_AGE'>"
      ]
     },
     "execution_count": 22,
     "metadata": {},
     "output_type": "execute_result"
    },
    {
     "data": {
      "image/png": "[encoded data removed]",
      "text/plain": [
       "<Figure size 720x360 with 1 Axes>"
      ]
     },
     "metadata": {
      "needs_background": "light"
     },
     "output_type": "display_data"
    }
   ],
   "source": [
    "plt.figure(figsize=(10,5))\n",
    "chart = sns.countplot(x=nyc_crash_df['COMPLAINT'].unique(),data=nyc_crash_df)\n",
    "\n",
    "plt.xticks(\n",
    "    rotation=45, \n",
    "    horizontalalignment='right',\n",
    "    fontweight='light',\n",
    "    fontsize='x-large'  \n",
    ")\n",
    "\n",
    "sns.barplot(x=nyc_crash_df['COMPLAINT'].unique(), y=nyc_crash_df.groupby('COMPLAINT')['PERSON_AGE'].mean(), data=nyc_crash_df)"
   ]
  },
  {
   "cell_type": "code",
   "execution_count": 23,
   "metadata": {},
   "outputs": [
    {
     "data": {
      "text/plain": [
       "<AxesSubplot:ylabel='PERSON_AGE'>"
      ]
     },
     "execution_count": 23,
     "metadata": {},
     "output_type": "execute_result"
    },
    {
     "data": {
      "image/png": "[encoded data removed]",
      "text/plain": [
       "<Figure size 720x360 with 1 Axes>"
      ]
     },
     "metadata": {
      "needs_background": "light"
     },
     "output_type": "display_data"
    }
   ],
   "source": [
    "plt.figure(figsize=(10,5))\n",
    "#chart = sns.countplot(x=nyc_crash_df['COMPLAINT'].unique(),data=nyc_crash_df)\n",
    "\n",
    "plt.xticks(\n",
    "    rotation=45, \n",
    "    horizontalalignment='right',\n",
    "    fontweight='light',\n",
    "    fontsize='x-large'  \n",
    ")\n",
    "\n",
    "sns.barplot(x=nyc_crash_df['BODILY_INJURY'].unique(), y=nyc_crash_df.groupby('BODILY_INJURY')['PERSON_AGE'].mean(), data=nyc_crash_df)"
   ]
  },
  {
   "cell_type": "markdown",
   "metadata": {},
   "source": [
    "***Here is a barplot representation of the age distribution of the car crash victims***"
   ]
  },
  {
   "cell_type": "code",
   "execution_count": 24,
   "metadata": {},
   "outputs": [
    {
     "data": {
      "text/plain": [
       "Text(0.5, 1.0, 'Histogram of the Age of NYC Car Crash Victims')"
      ]
     },
     "execution_count": 24,
     "metadata": {},
     "output_type": "execute_result"
    },
    {
     "data": {
      "image/png": "[encoded data removed]",
      "text/plain": [
       "<Figure size 720x360 with 1 Axes>"
      ]
     },
     "metadata": {
      "needs_background": "light"
     },
     "output_type": "display_data"
    }
   ],
   "source": [
    "plt.figure(figsize=(10,5))\n",
    "#chart = sns.countplot(x=nyc_crash_df['COMPLAINT'].unique(),data=nyc_crash_df)\n",
    "\n",
    "plt.xticks(\n",
    "    rotation=45, \n",
    "    horizontalalignment='right',\n",
    "    fontweight='light',\n",
    "    fontsize='x-large'  \n",
    ")\n",
    "\n",
    "plt.hist(x=nyc_crash_df['PERSON_AGE'], range=(0, 100))\n",
    "plt.title('Histogram of the Age of NYC Car Crash Victims')"
   ]
  },
  {
   "cell_type": "markdown",
   "metadata": {},
   "source": [
    "***Analysis of the pedestrian action taken which occurred most frequently***"
   ]
  },
  {
   "cell_type": "code",
   "execution_count": 34,
   "metadata": {},
   "outputs": [
    {
     "data": {
      "text/plain": [
       "Crossing With Signal                               2481\n",
       "Crossing, No Signal, or Crosswalk                  1162\n",
       "Crossing, No Signal, Marked Crosswalk               528\n",
       "Other Actions in Roadway                            514\n",
       "Crossing Against Signal                             401\n",
       "Not in Roadway                                      382\n",
       "Unknown                                             271\n",
       "Does Not Apply                                      269\n",
       "Emerging from in Front of/Behind Parked Vehicle     212\n",
       "Getting On/Off Vehicle Other Than School Bus        107\n",
       "Working in Roadway                                   96\n",
       "Riding/Walking Along Highway With Traffic            71\n",
       "Playing in Roadway                                   30\n",
       "Riding/Walking Along Highway Against Traffic         21\n",
       "Pushing/Working on Car                               20\n",
       "Going to/From Stopped School Bus                      6\n",
       "Name: PED_ACTION, dtype: int64"
      ]
     },
     "execution_count": 34,
     "metadata": {},
     "output_type": "execute_result"
    }
   ],
   "source": [
    "nyc_crash_df['PED_ACTION'].value_counts()"
   ]
  },
  {
   "cell_type": "code",
   "execution_count": 35,
   "metadata": {},
   "outputs": [
    {
     "data": {
      "text/plain": [
       "(array([ 0,  1,  2,  3,  4,  5,  6,  7,  8,  9, 10, 11, 12, 13, 14, 15]),\n",
       " [Text(0, 0, 'Crossing With Signal'),\n",
       "  Text(1, 0, 'Crossing, No Signal, or Crosswalk'),\n",
       "  Text(2, 0, 'Crossing, No Signal, Marked Crosswalk'),\n",
       "  Text(3, 0, 'Other Actions in Roadway'),\n",
       "  Text(4, 0, 'Crossing Against Signal'),\n",
       "  Text(5, 0, 'Not in Roadway'),\n",
       "  Text(6, 0, 'Unknown'),\n",
       "  Text(7, 0, 'Does Not Apply'),\n",
       "  Text(8, 0, 'Emerging from in Front of/Behind Parked Vehicle'),\n",
       "  Text(9, 0, 'Getting On/Off Vehicle Other Than School Bus'),\n",
       "  Text(10, 0, 'Working in Roadway'),\n",
       "  Text(11, 0, 'Riding/Walking Along Highway With Traffic'),\n",
       "  Text(12, 0, 'Playing in Roadway'),\n",
       "  Text(13, 0, 'Riding/Walking Along Highway Against Traffic'),\n",
       "  Text(14, 0, 'Pushing/Working on Car'),\n",
       "  Text(15, 0, 'Going to/From Stopped School Bus')])"
      ]
     },
     "execution_count": 35,
     "metadata": {},
     "output_type": "execute_result"
    },
    {
     "data": {
      "image/png": "[encoded data removed]",
      "text/plain": [
       "<Figure size 1080x360 with 1 Axes>"
      ]
     },
     "metadata": {
      "needs_background": "light"
     },
     "output_type": "display_data"
    }
   ],
   "source": [
    "plt.figure(figsize=(15,5))\n",
    "nyc_crash_df['PED_ACTION'].value_counts().plot(kind='bar')\n",
    "\n",
    "plt.xticks(rotation=45, horizontalalignment='right')\n"
   ]
  },
  {
   "cell_type": "markdown",
   "metadata": {},
   "source": [
    "***Here, we can see that the average age of pedestrians who illegally crossed against the signal was lower than the average age of the dataset"
   ]
  },
  {
   "cell_type": "code",
   "execution_count": 42,
   "metadata": {},
   "outputs": [
    {
     "data": {
      "text/html": [
       "<div>\n",
       "<style scoped>\n",
       "    .dataframe tbody tr th:only-of-type {\n",
       "        vertical-align: middle;\n",
       "    }\n",
       "\n",
       "    .dataframe tbody tr th {\n",
       "        vertical-align: top;\n",
       "    }\n",
       "\n",
       "    .dataframe thead th {\n",
       "        text-align: right;\n",
       "    }\n",
       "</style>\n",
       "<table border=\"1\" class=\"dataframe\">\n",
       "  <thead>\n",
       "    <tr style=\"text-align: right;\">\n",
       "      <th></th>\n",
       "      <th>CRASH_DATE</th>\n",
       "      <th>CRASH_TIME</th>\n",
       "      <th>PERSON_INJURY</th>\n",
       "      <th>PERSON_AGE</th>\n",
       "      <th>BODILY_INJURY</th>\n",
       "      <th>SAFETY_EQUIPMENT</th>\n",
       "      <th>PERSON_SEX</th>\n",
       "      <th>PERSON_TYPE</th>\n",
       "      <th>PED_LOCATION</th>\n",
       "      <th>CONTRIBUTING_FACTOR_2</th>\n",
       "      <th>...</th>\n",
       "      <th>COMPLAINT</th>\n",
       "      <th>EMOTIONAL_STATUS</th>\n",
       "      <th>VEHICLE_ID</th>\n",
       "      <th>PERSON_ID</th>\n",
       "      <th>CONTRIBUTING_FACTOR_1</th>\n",
       "      <th>POSITION_IN_VEHICLE</th>\n",
       "      <th>PED_ROLE</th>\n",
       "      <th>UNIQUE_ID</th>\n",
       "      <th>PED_ACTION</th>\n",
       "      <th>COLLISION_ID</th>\n",
       "    </tr>\n",
       "  </thead>\n",
       "  <tbody>\n",
       "    <tr>\n",
       "      <th>0</th>\n",
       "      <td>2021-05-02</td>\n",
       "      <td>21:00</td>\n",
       "      <td>Killed</td>\n",
       "      <td>62.0</td>\n",
       "      <td>Head</td>\n",
       "      <td>NaN</td>\n",
       "      <td>F</td>\n",
       "      <td>Pedestrian</td>\n",
       "      <td>Pedestrian/Bicyclist/Other Pedestrian at Inter...</td>\n",
       "      <td>Pedestrian/Bicyclist/Other Pedestrian Error/Co...</td>\n",
       "      <td>...</td>\n",
       "      <td>Severe Bleeding</td>\n",
       "      <td>Apparent Death</td>\n",
       "      <td>NaN</td>\n",
       "      <td>f2f329b6-2dfc-4bd0-b751-2e4255f1ea06</td>\n",
       "      <td>Traffic Control Disregarded</td>\n",
       "      <td>NaN</td>\n",
       "      <td>Pedestrian</td>\n",
       "      <td>11791937</td>\n",
       "      <td>Crossing Against Signal</td>\n",
       "      <td>4412948</td>\n",
       "    </tr>\n",
       "    <tr>\n",
       "      <th>21</th>\n",
       "      <td>2021-07-07</td>\n",
       "      <td>22:00</td>\n",
       "      <td>Killed</td>\n",
       "      <td>54.0</td>\n",
       "      <td>Head</td>\n",
       "      <td>NaN</td>\n",
       "      <td>M</td>\n",
       "      <td>Pedestrian</td>\n",
       "      <td>Pedestrian/Bicyclist/Other Pedestrian Not at I...</td>\n",
       "      <td>Unspecified</td>\n",
       "      <td>...</td>\n",
       "      <td>Internal</td>\n",
       "      <td>Apparent Death</td>\n",
       "      <td>NaN</td>\n",
       "      <td>16abf5c7-a224-475f-811b-962b82d42a3e</td>\n",
       "      <td>Unspecified</td>\n",
       "      <td>NaN</td>\n",
       "      <td>Pedestrian</td>\n",
       "      <td>11865912</td>\n",
       "      <td>Crossing Against Signal</td>\n",
       "      <td>4435313</td>\n",
       "    </tr>\n",
       "    <tr>\n",
       "      <th>37</th>\n",
       "      <td>2021-03-22</td>\n",
       "      <td>22:00</td>\n",
       "      <td>Killed</td>\n",
       "      <td>61.0</td>\n",
       "      <td>Entire Body</td>\n",
       "      <td>NaN</td>\n",
       "      <td>M</td>\n",
       "      <td>Pedestrian</td>\n",
       "      <td>Pedestrian/Bicyclist/Other Pedestrian at Inter...</td>\n",
       "      <td>Traffic Control Disregarded</td>\n",
       "      <td>...</td>\n",
       "      <td>Internal</td>\n",
       "      <td>Unconscious</td>\n",
       "      <td>NaN</td>\n",
       "      <td>64f0b80d-3b9f-4a09-9f6e-0c26fd91ad2a</td>\n",
       "      <td>Pedestrian/Bicyclist/Other Pedestrian Error/Co...</td>\n",
       "      <td>NaN</td>\n",
       "      <td>Pedestrian</td>\n",
       "      <td>11793164</td>\n",
       "      <td>Crossing Against Signal</td>\n",
       "      <td>4401009</td>\n",
       "    </tr>\n",
       "    <tr>\n",
       "      <th>41</th>\n",
       "      <td>2021-08-27</td>\n",
       "      <td>9:00</td>\n",
       "      <td>Killed</td>\n",
       "      <td>61.0</td>\n",
       "      <td>Back</td>\n",
       "      <td>NaN</td>\n",
       "      <td>M</td>\n",
       "      <td>Pedestrian</td>\n",
       "      <td>Pedestrian/Bicyclist/Other Pedestrian at Inter...</td>\n",
       "      <td>Unspecified</td>\n",
       "      <td>...</td>\n",
       "      <td>Complaint of Pain or Nausea</td>\n",
       "      <td>Conscious</td>\n",
       "      <td>NaN</td>\n",
       "      <td>51e0f743-b07c-4945-9e40-fcd4523d24fd</td>\n",
       "      <td>Pedestrian/Bicyclist/Other Pedestrian Error/Co...</td>\n",
       "      <td>NaN</td>\n",
       "      <td>Pedestrian</td>\n",
       "      <td>11948636</td>\n",
       "      <td>Crossing Against Signal</td>\n",
       "      <td>4457151</td>\n",
       "    </tr>\n",
       "    <tr>\n",
       "      <th>58</th>\n",
       "      <td>2021-02-17</td>\n",
       "      <td>23:00</td>\n",
       "      <td>Killed</td>\n",
       "      <td>45.0</td>\n",
       "      <td>Head</td>\n",
       "      <td>NaN</td>\n",
       "      <td>M</td>\n",
       "      <td>Pedestrian</td>\n",
       "      <td>Pedestrian/Bicyclist/Other Pedestrian at Inter...</td>\n",
       "      <td>Unspecified</td>\n",
       "      <td>...</td>\n",
       "      <td>Internal</td>\n",
       "      <td>Unconscious</td>\n",
       "      <td>NaN</td>\n",
       "      <td>09d87ecc-a74f-44d4-84f0-b2f073273bd1</td>\n",
       "      <td>Unspecified</td>\n",
       "      <td>NaN</td>\n",
       "      <td>Pedestrian</td>\n",
       "      <td>11747196</td>\n",
       "      <td>Crossing Against Signal</td>\n",
       "      <td>4393789</td>\n",
       "    </tr>\n",
       "    <tr>\n",
       "      <th>...</th>\n",
       "      <td>...</td>\n",
       "      <td>...</td>\n",
       "      <td>...</td>\n",
       "      <td>...</td>\n",
       "      <td>...</td>\n",
       "      <td>...</td>\n",
       "      <td>...</td>\n",
       "      <td>...</td>\n",
       "      <td>...</td>\n",
       "      <td>...</td>\n",
       "      <td>...</td>\n",
       "      <td>...</td>\n",
       "      <td>...</td>\n",
       "      <td>...</td>\n",
       "      <td>...</td>\n",
       "      <td>...</td>\n",
       "      <td>...</td>\n",
       "      <td>...</td>\n",
       "      <td>...</td>\n",
       "      <td>...</td>\n",
       "      <td>...</td>\n",
       "    </tr>\n",
       "    <tr>\n",
       "      <th>44678</th>\n",
       "      <td>2021-06-06</td>\n",
       "      <td>23:00</td>\n",
       "      <td>Injured</td>\n",
       "      <td>52.0</td>\n",
       "      <td>Elbow-Lower-Arm-Hand</td>\n",
       "      <td>NaN</td>\n",
       "      <td>M</td>\n",
       "      <td>Pedestrian</td>\n",
       "      <td>Pedestrian/Bicyclist/Other Pedestrian at Inter...</td>\n",
       "      <td>Pedestrian/Bicyclist/Other Pedestrian Error/Co...</td>\n",
       "      <td>...</td>\n",
       "      <td>Minor Bleeding</td>\n",
       "      <td>Conscious</td>\n",
       "      <td>NaN</td>\n",
       "      <td>a00784d9-3374-4f15-b0c5-210e4a33965e</td>\n",
       "      <td>Pedestrian/Bicyclist/Other Pedestrian Error/Co...</td>\n",
       "      <td>NaN</td>\n",
       "      <td>Pedestrian</td>\n",
       "      <td>11829286</td>\n",
       "      <td>Crossing Against Signal</td>\n",
       "      <td>4424292</td>\n",
       "    </tr>\n",
       "    <tr>\n",
       "      <th>44768</th>\n",
       "      <td>2021-06-13</td>\n",
       "      <td>18:00</td>\n",
       "      <td>Injured</td>\n",
       "      <td>54.0</td>\n",
       "      <td>Knee-Lower Leg Foot</td>\n",
       "      <td>NaN</td>\n",
       "      <td>F</td>\n",
       "      <td>Pedestrian</td>\n",
       "      <td>Pedestrian/Bicyclist/Other Pedestrian at Inter...</td>\n",
       "      <td>Unspecified</td>\n",
       "      <td>...</td>\n",
       "      <td>Complaint of Pain or Nausea</td>\n",
       "      <td>Conscious</td>\n",
       "      <td>NaN</td>\n",
       "      <td>434a3c1f-afa1-4718-b92a-f42de2bfc83f</td>\n",
       "      <td>Pedestrian/Bicyclist/Other Pedestrian Error/Co...</td>\n",
       "      <td>NaN</td>\n",
       "      <td>Pedestrian</td>\n",
       "      <td>11850002</td>\n",
       "      <td>Crossing Against Signal</td>\n",
       "      <td>4426778</td>\n",
       "    </tr>\n",
       "    <tr>\n",
       "      <th>44893</th>\n",
       "      <td>2021-06-17</td>\n",
       "      <td>18:00</td>\n",
       "      <td>Injured</td>\n",
       "      <td>23.0</td>\n",
       "      <td>Back</td>\n",
       "      <td>NaN</td>\n",
       "      <td>M</td>\n",
       "      <td>Pedestrian</td>\n",
       "      <td>Pedestrian/Bicyclist/Other Pedestrian Not at I...</td>\n",
       "      <td>Traffic Control Disregarded</td>\n",
       "      <td>...</td>\n",
       "      <td>Abrasion</td>\n",
       "      <td>Conscious</td>\n",
       "      <td>NaN</td>\n",
       "      <td>291d5b01-72e8-4354-a344-ed9f642aaa21</td>\n",
       "      <td>Pedestrian/Bicyclist/Other Pedestrian Error/Co...</td>\n",
       "      <td>NaN</td>\n",
       "      <td>Pedestrian</td>\n",
       "      <td>11765488</td>\n",
       "      <td>Crossing Against Signal</td>\n",
       "      <td>4429314</td>\n",
       "    </tr>\n",
       "    <tr>\n",
       "      <th>45012</th>\n",
       "      <td>2021-03-30</td>\n",
       "      <td>12:00</td>\n",
       "      <td>Injured</td>\n",
       "      <td>22.0</td>\n",
       "      <td>Entire Body</td>\n",
       "      <td>NaN</td>\n",
       "      <td>F</td>\n",
       "      <td>Pedestrian</td>\n",
       "      <td>Pedestrian/Bicyclist/Other Pedestrian at Inter...</td>\n",
       "      <td>Unspecified</td>\n",
       "      <td>...</td>\n",
       "      <td>Concussion</td>\n",
       "      <td>Conscious</td>\n",
       "      <td>NaN</td>\n",
       "      <td>9095f378-bac3-4de1-ad0d-68761b98cc35</td>\n",
       "      <td>Pedestrian/Bicyclist/Other Pedestrian Error/Co...</td>\n",
       "      <td>NaN</td>\n",
       "      <td>Pedestrian</td>\n",
       "      <td>11777296</td>\n",
       "      <td>Crossing Against Signal</td>\n",
       "      <td>4403135</td>\n",
       "    </tr>\n",
       "    <tr>\n",
       "      <th>45647</th>\n",
       "      <td>2021-05-17</td>\n",
       "      <td>9:00</td>\n",
       "      <td>Injured</td>\n",
       "      <td>85.0</td>\n",
       "      <td>Back</td>\n",
       "      <td>NaN</td>\n",
       "      <td>M</td>\n",
       "      <td>Pedestrian</td>\n",
       "      <td>Pedestrian/Bicyclist/Other Pedestrian at Inter...</td>\n",
       "      <td>Traffic Control Disregarded</td>\n",
       "      <td>...</td>\n",
       "      <td>Complaint of Pain or Nausea</td>\n",
       "      <td>Conscious</td>\n",
       "      <td>NaN</td>\n",
       "      <td>36a09471-1bc6-495d-be55-a665f1063cea</td>\n",
       "      <td>Pedestrian/Bicyclist/Other Pedestrian Error/Co...</td>\n",
       "      <td>NaN</td>\n",
       "      <td>Pedestrian</td>\n",
       "      <td>11750595</td>\n",
       "      <td>Crossing Against Signal</td>\n",
       "      <td>4417390</td>\n",
       "    </tr>\n",
       "  </tbody>\n",
       "</table>\n",
       "<p>401 rows × 21 columns</p>\n",
       "</div>"
      ],
      "text/plain": [
       "       CRASH_DATE CRASH_TIME PERSON_INJURY  PERSON_AGE         BODILY_INJURY  \\\n",
       "0      2021-05-02      21:00        Killed        62.0                  Head   \n",
       "21     2021-07-07      22:00        Killed        54.0                  Head   \n",
       "37     2021-03-22      22:00        Killed        61.0           Entire Body   \n",
       "41     2021-08-27       9:00        Killed        61.0                  Back   \n",
       "58     2021-02-17      23:00        Killed        45.0                  Head   \n",
       "...           ...        ...           ...         ...                   ...   \n",
       "44678  2021-06-06      23:00       Injured        52.0  Elbow-Lower-Arm-Hand   \n",
       "44768  2021-06-13      18:00       Injured        54.0   Knee-Lower Leg Foot   \n",
       "44893  2021-06-17      18:00       Injured        23.0                  Back   \n",
       "45012  2021-03-30      12:00       Injured        22.0           Entire Body   \n",
       "45647  2021-05-17       9:00       Injured        85.0                  Back   \n",
       "\n",
       "      SAFETY_EQUIPMENT PERSON_SEX PERSON_TYPE  \\\n",
       "0                  NaN          F  Pedestrian   \n",
       "21                 NaN          M  Pedestrian   \n",
       "37                 NaN          M  Pedestrian   \n",
       "41                 NaN          M  Pedestrian   \n",
       "58                 NaN          M  Pedestrian   \n",
       "...                ...        ...         ...   \n",
       "44678              NaN          M  Pedestrian   \n",
       "44768              NaN          F  Pedestrian   \n",
       "44893              NaN          M  Pedestrian   \n",
       "45012              NaN          F  Pedestrian   \n",
       "45647              NaN          M  Pedestrian   \n",
       "\n",
       "                                            PED_LOCATION  \\\n",
       "0      Pedestrian/Bicyclist/Other Pedestrian at Inter...   \n",
       "21     Pedestrian/Bicyclist/Other Pedestrian Not at I...   \n",
       "37     Pedestrian/Bicyclist/Other Pedestrian at Inter...   \n",
       "41     Pedestrian/Bicyclist/Other Pedestrian at Inter...   \n",
       "58     Pedestrian/Bicyclist/Other Pedestrian at Inter...   \n",
       "...                                                  ...   \n",
       "44678  Pedestrian/Bicyclist/Other Pedestrian at Inter...   \n",
       "44768  Pedestrian/Bicyclist/Other Pedestrian at Inter...   \n",
       "44893  Pedestrian/Bicyclist/Other Pedestrian Not at I...   \n",
       "45012  Pedestrian/Bicyclist/Other Pedestrian at Inter...   \n",
       "45647  Pedestrian/Bicyclist/Other Pedestrian at Inter...   \n",
       "\n",
       "                                   CONTRIBUTING_FACTOR_2  ...  \\\n",
       "0      Pedestrian/Bicyclist/Other Pedestrian Error/Co...  ...   \n",
       "21                                           Unspecified  ...   \n",
       "37                           Traffic Control Disregarded  ...   \n",
       "41                                           Unspecified  ...   \n",
       "58                                           Unspecified  ...   \n",
       "...                                                  ...  ...   \n",
       "44678  Pedestrian/Bicyclist/Other Pedestrian Error/Co...  ...   \n",
       "44768                                        Unspecified  ...   \n",
       "44893                        Traffic Control Disregarded  ...   \n",
       "45012                                        Unspecified  ...   \n",
       "45647                        Traffic Control Disregarded  ...   \n",
       "\n",
       "                         COMPLAINT EMOTIONAL_STATUS VEHICLE_ID  \\\n",
       "0                  Severe Bleeding   Apparent Death        NaN   \n",
       "21                        Internal   Apparent Death        NaN   \n",
       "37                        Internal      Unconscious        NaN   \n",
       "41     Complaint of Pain or Nausea        Conscious        NaN   \n",
       "58                        Internal      Unconscious        NaN   \n",
       "...                            ...              ...        ...   \n",
       "44678               Minor Bleeding        Conscious        NaN   \n",
       "44768  Complaint of Pain or Nausea        Conscious        NaN   \n",
       "44893                     Abrasion        Conscious        NaN   \n",
       "45012                   Concussion        Conscious        NaN   \n",
       "45647  Complaint of Pain or Nausea        Conscious        NaN   \n",
       "\n",
       "                                  PERSON_ID  \\\n",
       "0      f2f329b6-2dfc-4bd0-b751-2e4255f1ea06   \n",
       "21     16abf5c7-a224-475f-811b-962b82d42a3e   \n",
       "37     64f0b80d-3b9f-4a09-9f6e-0c26fd91ad2a   \n",
       "41     51e0f743-b07c-4945-9e40-fcd4523d24fd   \n",
       "58     09d87ecc-a74f-44d4-84f0-b2f073273bd1   \n",
       "...                                     ...   \n",
       "44678  a00784d9-3374-4f15-b0c5-210e4a33965e   \n",
       "44768  434a3c1f-afa1-4718-b92a-f42de2bfc83f   \n",
       "44893  291d5b01-72e8-4354-a344-ed9f642aaa21   \n",
       "45012  9095f378-bac3-4de1-ad0d-68761b98cc35   \n",
       "45647  36a09471-1bc6-495d-be55-a665f1063cea   \n",
       "\n",
       "                                   CONTRIBUTING_FACTOR_1 POSITION_IN_VEHICLE  \\\n",
       "0                            Traffic Control Disregarded                 NaN   \n",
       "21                                           Unspecified                 NaN   \n",
       "37     Pedestrian/Bicyclist/Other Pedestrian Error/Co...                 NaN   \n",
       "41     Pedestrian/Bicyclist/Other Pedestrian Error/Co...                 NaN   \n",
       "58                                           Unspecified                 NaN   \n",
       "...                                                  ...                 ...   \n",
       "44678  Pedestrian/Bicyclist/Other Pedestrian Error/Co...                 NaN   \n",
       "44768  Pedestrian/Bicyclist/Other Pedestrian Error/Co...                 NaN   \n",
       "44893  Pedestrian/Bicyclist/Other Pedestrian Error/Co...                 NaN   \n",
       "45012  Pedestrian/Bicyclist/Other Pedestrian Error/Co...                 NaN   \n",
       "45647  Pedestrian/Bicyclist/Other Pedestrian Error/Co...                 NaN   \n",
       "\n",
       "         PED_ROLE UNIQUE_ID               PED_ACTION COLLISION_ID  \n",
       "0      Pedestrian  11791937  Crossing Against Signal      4412948  \n",
       "21     Pedestrian  11865912  Crossing Against Signal      4435313  \n",
       "37     Pedestrian  11793164  Crossing Against Signal      4401009  \n",
       "41     Pedestrian  11948636  Crossing Against Signal      4457151  \n",
       "58     Pedestrian  11747196  Crossing Against Signal      4393789  \n",
       "...           ...       ...                      ...          ...  \n",
       "44678  Pedestrian  11829286  Crossing Against Signal      4424292  \n",
       "44768  Pedestrian  11850002  Crossing Against Signal      4426778  \n",
       "44893  Pedestrian  11765488  Crossing Against Signal      4429314  \n",
       "45012  Pedestrian  11777296  Crossing Against Signal      4403135  \n",
       "45647  Pedestrian  11750595  Crossing Against Signal      4417390  \n",
       "\n",
       "[401 rows x 21 columns]"
      ]
     },
     "execution_count": 42,
     "metadata": {},
     "output_type": "execute_result"
    }
   ],
   "source": [
    "ped_illegal_cross = nyc_crash_df[nyc_crash_df['PED_ACTION'] == 'Crossing Against Signal']\n",
    "ped_illegal_cross"
   ]
  },
  {
   "cell_type": "code",
   "execution_count": 43,
   "metadata": {},
   "outputs": [],
   "source": [
    "ped_legal_cross = nyc_crash_df.drop(nyc_crash_df[nyc_crash_df['PED_ACTION'] == 'Crossing Against Signal'].index)"
   ]
  },
  {
   "cell_type": "code",
   "execution_count": 44,
   "metadata": {},
   "outputs": [
    {
     "data": {
      "text/plain": [
       "36.113110539845756"
      ]
     },
     "execution_count": 44,
     "metadata": {},
     "output_type": "execute_result"
    }
   ],
   "source": [
    "ped_illegal_cross['PERSON_AGE'].mean()"
   ]
  },
  {
   "cell_type": "code",
   "execution_count": 45,
   "metadata": {},
   "outputs": [
    {
     "data": {
      "text/plain": [
       "37.49956530462114"
      ]
     },
     "execution_count": 45,
     "metadata": {},
     "output_type": "execute_result"
    }
   ],
   "source": [
    "ped_legal_cross['PERSON_AGE'].mean()"
   ]
  },
  {
   "cell_type": "markdown",
   "metadata": {},
   "source": [
    "***Interestingly, there is no significant difference between the sex makeup for whether an individual crossed legally or not***"
   ]
  },
  {
   "cell_type": "code",
   "execution_count": 52,
   "metadata": {},
   "outputs": [
    {
     "data": {
      "text/plain": [
       "M    60.84788\n",
       "F    39.15212\n",
       "Name: PERSON_SEX, dtype: float64"
      ]
     },
     "execution_count": 52,
     "metadata": {},
     "output_type": "execute_result"
    }
   ],
   "source": [
    "illegal_cross_gender = ped_illegal_cross['PERSON_SEX'].value_counts() / len(ped_illegal_cross) * 100\n",
    "illegal_cross_gender"
   ]
  },
  {
   "cell_type": "code",
   "execution_count": 53,
   "metadata": {},
   "outputs": [
    {
     "data": {
      "text/plain": [
       "M    60.371565\n",
       "F    39.442874\n",
       "U     0.185562\n",
       "Name: PERSON_SEX, dtype: float64"
      ]
     },
     "execution_count": 53,
     "metadata": {},
     "output_type": "execute_result"
    }
   ],
   "source": [
    "legal_cross_gender = ped_legal_cross['PERSON_SEX'].value_counts() / len(ped_legal_cross) * 100\n",
    "legal_cross_gender"
   ]
  },
  {
   "cell_type": "code",
   "execution_count": null,
   "metadata": {},
   "outputs": [],
   "source": []
  }
 ],
 "metadata": {
  "interpreter": {
   "hash": "a0a5145e6c304e2a9afaf5b930a2955b950bd4b81fe94f7c42930f43f42762eb"
  },
  "kernelspec": {
   "display_name": "Python 3.10.2 64-bit",
   "language": "python",
   "name": "python3"
  },
  "language_info": {
   "codemirror_mode": {
    "name": "ipython",
    "version": 3
   },
   "file_extension": ".py",
   "mimetype": "text/x-python",
   "name": "python",
   "nbconvert_exporter": "python",
   "pygments_lexer": "ipython3",
   "version": "3.10.2"
  },
  "orig_nbformat": 4
 },
 "nbformat": 4,
 "nbformat_minor": 2
}
